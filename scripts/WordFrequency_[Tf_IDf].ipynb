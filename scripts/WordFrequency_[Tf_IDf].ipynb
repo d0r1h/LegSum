{
  "nbformat": 4,
  "nbformat_minor": 0,
  "metadata": {
    "colab": {
      "name": "WordFrequency (Tf_IDf).ipynb",
      "provenance": [],
      "collapsed_sections": []
    },
    "kernelspec": {
      "name": "python3",
      "display_name": "Python 3"
    },
    "language_info": {
      "name": "python"
    }
  },
  "cells": [
    {
      "cell_type": "code",
      "source": [
        "!pip install rouge"
      ],
      "metadata": {
        "id": "0Lq8K1MA5J0P"
      },
      "execution_count": null,
      "outputs": []
    },
    {
      "cell_type": "code",
      "execution_count": null,
      "metadata": {
        "id": "j18EmwWuvM5U"
      },
      "outputs": [],
      "source": [
        "import os\n",
        "import spacy\n",
        "import numpy as np\n",
        "import pandas as pd\n",
        "from rouge import Rouge\n",
        "from heapq import nlargest\n",
        "from itertools import islice\n",
        "from string import punctuation \n",
        "from spacy.lang.en.stop_words import STOP_WORDS"
      ]
    },
    {
      "cell_type": "code",
      "source": [
        "data_path = \"/content/drive/MyDrive/LegSuM/Data/catest_processed.csv\"\n",
        "data = pd.read_csv(data_path)"
      ],
      "metadata": {
        "id": "nQJDF3D5vkqD"
      },
      "execution_count": null,
      "outputs": []
    },
    {
      "cell_type": "code",
      "source": [
        "data[['clean_text', 'summary']].head()"
      ],
      "metadata": {
        "colab": {
          "base_uri": "https://localhost:8080/",
          "height": 206
        },
        "id": "S20Jw7iWvkcR",
        "outputId": "749095f8-da13-4daa-9cfa-05a757cf1488"
      },
      "execution_count": null,
      "outputs": [
        {
          "output_type": "execute_result",
          "data": {
            "text/plain": [
              "                                          clean_text  \\\n",
              "0  The people of the State of California do enact...   \n",
              "1  The people of the State of California do enact...   \n",
              "2  The people of the State of California do enact...   \n",
              "3  The people of the State of California do enact...   \n",
              "4  The people of the State of California do enact...   \n",
              "\n",
              "                                             summary  \n",
              "0  Existing property tax law establishes a vetera...  \n",
              "1  Existing law provides that the Board of Parole...  \n",
              "2  The Sales and Use Tax Law imposes a tax on ret...  \n",
              "3  Existing law requires all moneys, except for f...  \n",
              "4  Existing law defines a request regarding resus...  "
            ],
            "text/html": [
              "\n",
              "  <div id=\"df-11f9f4ba-e768-4126-bc67-926ee5718417\">\n",
              "    <div class=\"colab-df-container\">\n",
              "      <div>\n",
              "<style scoped>\n",
              "    .dataframe tbody tr th:only-of-type {\n",
              "        vertical-align: middle;\n",
              "    }\n",
              "\n",
              "    .dataframe tbody tr th {\n",
              "        vertical-align: top;\n",
              "    }\n",
              "\n",
              "    .dataframe thead th {\n",
              "        text-align: right;\n",
              "    }\n",
              "</style>\n",
              "<table border=\"1\" class=\"dataframe\">\n",
              "  <thead>\n",
              "    <tr style=\"text-align: right;\">\n",
              "      <th></th>\n",
              "      <th>clean_text</th>\n",
              "      <th>summary</th>\n",
              "    </tr>\n",
              "  </thead>\n",
              "  <tbody>\n",
              "    <tr>\n",
              "      <th>0</th>\n",
              "      <td>The people of the State of California do enact...</td>\n",
              "      <td>Existing property tax law establishes a vetera...</td>\n",
              "    </tr>\n",
              "    <tr>\n",
              "      <th>1</th>\n",
              "      <td>The people of the State of California do enact...</td>\n",
              "      <td>Existing law provides that the Board of Parole...</td>\n",
              "    </tr>\n",
              "    <tr>\n",
              "      <th>2</th>\n",
              "      <td>The people of the State of California do enact...</td>\n",
              "      <td>The Sales and Use Tax Law imposes a tax on ret...</td>\n",
              "    </tr>\n",
              "    <tr>\n",
              "      <th>3</th>\n",
              "      <td>The people of the State of California do enact...</td>\n",
              "      <td>Existing law requires all moneys, except for f...</td>\n",
              "    </tr>\n",
              "    <tr>\n",
              "      <th>4</th>\n",
              "      <td>The people of the State of California do enact...</td>\n",
              "      <td>Existing law defines a request regarding resus...</td>\n",
              "    </tr>\n",
              "  </tbody>\n",
              "</table>\n",
              "</div>\n",
              "      <button class=\"colab-df-convert\" onclick=\"convertToInteractive('df-11f9f4ba-e768-4126-bc67-926ee5718417')\"\n",
              "              title=\"Convert this dataframe to an interactive table.\"\n",
              "              style=\"display:none;\">\n",
              "        \n",
              "  <svg xmlns=\"http://www.w3.org/2000/svg\" height=\"24px\"viewBox=\"0 0 24 24\"\n",
              "       width=\"24px\">\n",
              "    <path d=\"M0 0h24v24H0V0z\" fill=\"none\"/>\n",
              "    <path d=\"M18.56 5.44l.94 2.06.94-2.06 2.06-.94-2.06-.94-.94-2.06-.94 2.06-2.06.94zm-11 1L8.5 8.5l.94-2.06 2.06-.94-2.06-.94L8.5 2.5l-.94 2.06-2.06.94zm10 10l.94 2.06.94-2.06 2.06-.94-2.06-.94-.94-2.06-.94 2.06-2.06.94z\"/><path d=\"M17.41 7.96l-1.37-1.37c-.4-.4-.92-.59-1.43-.59-.52 0-1.04.2-1.43.59L10.3 9.45l-7.72 7.72c-.78.78-.78 2.05 0 2.83L4 21.41c.39.39.9.59 1.41.59.51 0 1.02-.2 1.41-.59l7.78-7.78 2.81-2.81c.8-.78.8-2.07 0-2.86zM5.41 20L4 18.59l7.72-7.72 1.47 1.35L5.41 20z\"/>\n",
              "  </svg>\n",
              "      </button>\n",
              "      \n",
              "  <style>\n",
              "    .colab-df-container {\n",
              "      display:flex;\n",
              "      flex-wrap:wrap;\n",
              "      gap: 12px;\n",
              "    }\n",
              "\n",
              "    .colab-df-convert {\n",
              "      background-color: #E8F0FE;\n",
              "      border: none;\n",
              "      border-radius: 50%;\n",
              "      cursor: pointer;\n",
              "      display: none;\n",
              "      fill: #1967D2;\n",
              "      height: 32px;\n",
              "      padding: 0 0 0 0;\n",
              "      width: 32px;\n",
              "    }\n",
              "\n",
              "    .colab-df-convert:hover {\n",
              "      background-color: #E2EBFA;\n",
              "      box-shadow: 0px 1px 2px rgba(60, 64, 67, 0.3), 0px 1px 3px 1px rgba(60, 64, 67, 0.15);\n",
              "      fill: #174EA6;\n",
              "    }\n",
              "\n",
              "    [theme=dark] .colab-df-convert {\n",
              "      background-color: #3B4455;\n",
              "      fill: #D2E3FC;\n",
              "    }\n",
              "\n",
              "    [theme=dark] .colab-df-convert:hover {\n",
              "      background-color: #434B5C;\n",
              "      box-shadow: 0px 1px 3px 1px rgba(0, 0, 0, 0.15);\n",
              "      filter: drop-shadow(0px 1px 2px rgba(0, 0, 0, 0.3));\n",
              "      fill: #FFFFFF;\n",
              "    }\n",
              "  </style>\n",
              "\n",
              "      <script>\n",
              "        const buttonEl =\n",
              "          document.querySelector('#df-11f9f4ba-e768-4126-bc67-926ee5718417 button.colab-df-convert');\n",
              "        buttonEl.style.display =\n",
              "          google.colab.kernel.accessAllowed ? 'block' : 'none';\n",
              "\n",
              "        async function convertToInteractive(key) {\n",
              "          const element = document.querySelector('#df-11f9f4ba-e768-4126-bc67-926ee5718417');\n",
              "          const dataTable =\n",
              "            await google.colab.kernel.invokeFunction('convertToInteractive',\n",
              "                                                     [key], {});\n",
              "          if (!dataTable) return;\n",
              "\n",
              "          const docLinkHtml = 'Like what you see? Visit the ' +\n",
              "            '<a target=\"_blank\" href=https://colab.research.google.com/notebooks/data_table.ipynb>data table notebook</a>'\n",
              "            + ' to learn more about interactive tables.';\n",
              "          element.innerHTML = '';\n",
              "          dataTable['output_type'] = 'display_data';\n",
              "          await google.colab.output.renderOutput(dataTable, element);\n",
              "          const docLink = document.createElement('div');\n",
              "          docLink.innerHTML = docLinkHtml;\n",
              "          element.appendChild(docLink);\n",
              "        }\n",
              "      </script>\n",
              "    </div>\n",
              "  </div>\n",
              "  "
            ]
          },
          "metadata": {},
          "execution_count": 4
        }
      ]
    },
    {
      "cell_type": "code",
      "source": [
        ""
      ],
      "metadata": {
        "id": "jb10Mf4rv6RJ"
      },
      "execution_count": null,
      "outputs": []
    },
    {
      "cell_type": "markdown",
      "source": [
        "For Single Cae"
      ],
      "metadata": {
        "id": "U5j2gdouv8ih"
      }
    },
    {
      "cell_type": "code",
      "source": [
        "text = data['clean_text'][0]"
      ],
      "metadata": {
        "id": "qbbubolxv9_Y"
      },
      "execution_count": null,
      "outputs": []
    },
    {
      "cell_type": "code",
      "source": [
        "stopwords = list(STOP_WORDS)\n",
        "nlp = spacy.load('en_core_web_sm')"
      ],
      "metadata": {
        "id": "P_Ofho_swBQp"
      },
      "execution_count": null,
      "outputs": []
    },
    {
      "cell_type": "code",
      "source": [
        "doc = nlp(text)"
      ],
      "metadata": {
        "id": "L9lWma0mwBNx"
      },
      "execution_count": null,
      "outputs": []
    },
    {
      "cell_type": "code",
      "source": [
        "tokens = [token.text for token in doc]\n",
        "print(tokens)"
      ],
      "metadata": {
        "colab": {
          "base_uri": "https://localhost:8080/"
        },
        "id": "zei1-Zq8wGcq",
        "outputId": "b89d29e2-358b-43e8-be6b-25fe5fa730da"
      },
      "execution_count": null,
      "outputs": [
        {
          "output_type": "stream",
          "name": "stdout",
          "text": [
            "['The', 'people', 'of', 'the', 'State', 'of', 'California', 'do', 'enact', 'as', 'follows', ':', 'SECTIONHEADER', 'The', 'Legislature', 'finds', 'and', 'declares', 'all', 'of', 'the', 'following', ':', '(', '1', ')', 'Since', '1899', 'congressionally', 'chartered', 'veterans', '’', 'organizations', 'have', 'provided', 'a', 'valuable', 'service', 'to', 'our', 'nation', '’s', 'returning', 'service', 'members', '.', 'These', 'organizations', 'help', 'preserve', 'the', 'memories', 'and', 'incidents', 'of', 'the', 'great', 'hostilities', 'fought', 'by', 'our', 'nation', ',', 'and', 'preserve', 'and', 'strengthen', 'comradeship', 'among', 'members', '.', 'These', 'veterans', '’', 'organizations', 'also', 'own', 'and', 'manage', 'various', 'properties', 'including', 'lodges', ',', 'posts', ',', 'and', 'fraternal', 'halls', '.', 'These', 'properties', 'act', 'as', 'a', 'safe', 'haven', 'where', 'veterans', 'of', 'all', 'ages', 'and', 'their', 'families', 'can', 'gather', 'together', 'to', 'find', 'camaraderie', 'and', 'fellowship', ',', 'share', 'stories', ',', 'and', 'seek', 'support', 'from', 'people', 'who', 'understand', 'their', 'unique', 'experiences', '.', 'This', 'aids', 'in', 'the', 'healing', 'process', 'for', 'these', 'returning', 'veterans', ',', 'and', 'ensures', 'their', 'health', 'and', 'happiness', '.', 'As', 'a', 'result', 'of', 'congressional', 'chartering', 'of', 'these', 'veterans', '’', 'organizations', ',', 'the', 'United', 'States', 'Internal', 'Revenue', 'Service', 'created', 'a', 'special', 'tax', 'exemption', 'for', 'these', 'organizations', 'under', 'Section', '501(c)(19', ')', 'of', 'the', 'Internal', 'Revenue', 'Code', '.', 'Section', '501(c)(19', ')', 'of', 'the', 'Internal', 'Revenue', 'Code', 'and', 'related', 'federal', 'regulations', 'provide', 'for', 'the', 'exemption', 'for', 'posts', 'or', 'organizations', 'of', 'war', 'veterans', ',', 'or', 'an', 'auxiliary', 'unit', 'or', 'society', 'of', ',', 'or', 'a', 'trust', 'or', 'foundation', 'for', ',', 'any', 'such', 'post', 'or', 'organization', 'that', ',', 'among', 'other', 'attributes', ',', 'carries', 'on', 'programs', 'to', 'perpetuate', 'the', 'memory', 'of', 'deceased', 'veterans', 'and', 'members', 'of', 'the', 'Armed', 'Forces', 'and', 'to', 'comfort', 'their', 'survivors', ',', 'conducts', 'programs', 'for', 'religious', ',', 'charitable', ',', 'scientific', ',', 'literary', ',', 'or', 'educational', 'purposes', ',', 'sponsors', 'or', 'participates', 'in', 'activities', 'of', 'a', 'patriotic', 'nature', ',', 'and', 'provides', 'social', 'and', 'recreational', 'activities', 'for', 'their', 'members', '.', 'Section', '215.1', 'of', 'the', 'Revenue', 'and', 'Taxation', 'Code', 'stipulates', 'that', 'all', 'buildings', ',', 'support', 'and', 'so', 'much', 'of', 'the', 'real', 'property', 'on', 'which', 'the', 'buildings', 'are', 'situated', 'as', 'may', 'be', 'required', 'for', 'the', 'convenient', 'use', 'and', 'occupation', 'of', 'the', 'buildings', ',', 'used', 'exclusively', 'for', 'charitable', 'purposes', ',', 'owned', 'by', 'a', 'veterans', '’', 'organization', 'that', 'has', 'been', 'chartered', 'by', 'the', 'Congress', 'of', 'the', 'United', 'States', ',', 'organized', 'and', 'operated', 'for', 'charitable', 'purposes', ',', 'when', 'the', 'same', 'are', 'used', 'solely', 'and', 'exclusively', 'for', 'the', 'purpose', 'of', 'the', 'organization', ',', 'if', 'not', 'conducted', 'for', 'profit', 'and', 'no', 'part', 'of', 'the', 'net', 'earnings', 'of', 'which', 'ensures', 'to', 'the', 'benefit', 'of', 'any', 'private', 'individual', 'or', 'member', 'thereof', ',', 'are', 'exempt', 'from', 'taxation', '.', 'The', 'Chief', 'Counsel', 'of', 'the', 'State', 'Board', 'of', 'Equalization', 'concluded', ',', 'based', 'on', 'a', '1979', 'appellate', 'court', 'decision', ',', 'that', 'only', 'parts', 'of', 'American', 'Legion', 'halls', 'are', 'exempt', 'from', 'property', 'taxation', 'and', 'that', 'other', 'parts', ',', 'such', 'as', 'billiard', 'rooms', ',', 'card', 'rooms', ',', 'and', 'similar', 'areas', ',', 'are', 'not', 'exempt', '.', 'In', 'a', '1994', 'memorandum', ',', 'the', 'State', 'Board', 'of', 'Equalization', '’s', 'legal', 'division', 'further', 'concluded', 'that', 'the', 'areas', 'normally', 'considered', 'eligible', 'for', 'exemptions', 'are', 'the', 'office', 'areas', 'used', 'to', 'counsel', 'veterans', 'and', 'the', 'area', 'used', 'to', 'store', 'veterans', '’', 'records', ',', 'but', 'that', 'the', 'meeting', 'hall', 'and', 'bar', 'found', 'in', 'most', 'of', 'the', 'facilities', 'are', 'not', 'considered', 'used', 'for', 'charitable', 'purposes', '.', 'Tax', '-', 'exempt', 'status', 'is', 'intended', 'to', 'provide', 'economic', 'incentive', 'and', 'support', 'to', 'veterans', '’', 'organizations', 'to', 'provide', 'for', 'the', 'social', 'welfare', 'of', 'the', 'community', 'of', 'current', 'and', 'former', 'military', 'personnel', '.', 'The', 'State', 'Board', 'of', 'Equalization', '’s', 'constriction', 'of', 'the', 'tax', 'exemption', 'has', 'resulted', 'in', 'an', 'onerous', 'tax', 'burden', 'on', 'California', 'veteran', 'service', 'organizations', 'posts', 'or', 'halls', ',', 'hinders', 'the', 'posts', '’', 'ability', 'to', 'provide', 'facilities', 'for', 'veterans', ',', 'and', 'threatens', 'the', 'economic', 'viability', 'of', 'many', 'local', 'organizations', '.', 'The', 'charitable', 'activities', 'of', 'a', 'veteran', 'service', 'organizations', 'post', 'or', 'hall', 'are', 'much', 'more', 'than', 'the', 'counseling', 'of', 'veterans', '.', 'The', 'requirements', 'listed', 'for', 'qualification', 'for', 'the', 'federal', 'tax', 'exemption', 'clearly', 'dictate', 'a', 'need', 'for', 'more', 'than', 'just', 'an', 'office', '.', 'Programs', 'to', 'perpetuate', 'the', 'memory', 'of', 'deceased', 'veterans', 'and', 'members', 'of', 'the', 'Armed', 'Forces', 'and', 'to', 'comfort', 'their', 'survivors', 'require', 'the', 'use', 'of', 'facilities', 'for', 'funerals', 'and', 'receptions', '.', 'Programs', 'for', 'religious', ',', 'charitable', ',', 'scientific', ',', 'literary', ',', 'or', 'educational', 'purposes', 'require', 'space', 'for', 'more', 'than', '50', 'attendees', '.', 'Activities', 'of', 'a', 'patriotic', 'nature', 'need', 'facilities', 'to', 'accommodate', 'hundreds', 'of', 'people', '.', 'Social', 'and', 'recreational', 'activities', 'for', 'members', 'require', 'precisely', 'those', 'areas', 'considered', '“', 'not', 'used', 'for', 'charitable', 'purposes', '”', 'by', 'the', 'State', 'Board', 'of', 'Equalization', '.', 'The', 'State', 'Board', 'of', 'Equalization', '’s', 'interpretation', 'of', 'the', 'Revenue', 'and', 'Taxation', 'Code', 'reflects', 'a', 'lack', 'of', 'understanding', 'of', 'the', 'purpose', 'and', 'programs', 'of', 'the', 'veterans', 'service', 'organizations', 'posts', 'or', 'halls', 'and', 'is', 'detrimental', 'to', 'the', 'good', 'works', 'performed', 'in', 'support', 'of', 'our', 'veteran', 'community', '.', 'SECTIONHEADERSECTIONHEADER', 'Section', '215.1', 'of', 'the', 'Revenue', 'and', 'Taxation', 'Code', 'is', 'amended', 'to', 'read', ':', '215.1', '.', 'All', 'buildings', ',', 'and', 'so', 'much', 'of', 'the', 'real', 'property', 'on', 'which', 'the', 'buildings', 'are', 'situated', 'as', 'may', 'be', 'required', 'for', 'the', 'convenient', 'use', 'and', 'occupation', 'of', 'the', 'buildings', ',', 'used', 'exclusively', 'for', 'charitable', 'purposes', ',', 'owned', 'by', 'a', 'veterans', '’', 'organization', 'that', 'has', 'been', 'chartered', 'by', 'the', 'Congress', 'of', 'the', 'United', 'States', ',', 'organized', 'and', 'operated', 'for', 'charitable', 'purposes', ',', 'and', 'exempt', 'from', 'federal', 'income', 'tax', 'as', 'an', 'organization', 'described', 'in', 'Section', '501(c)(19', ')', 'of', 'the', 'Internal', 'Revenue', 'Code', 'when', 'the', 'same', 'are', 'used', 'solely', 'and', 'exclusively', 'for', 'the', 'purpose', 'of', 'the', 'organization', ',', 'if', 'not', 'conducted', 'for', 'profit', 'and', 'no', 'part', 'of', 'the', 'net', 'earnings', 'of', 'which', 'inures', 'to', 'the', 'benefit', 'of', 'any', 'private', 'individual', 'or', 'member', 'thereof', ',', 'shall', 'be', 'exempt', 'from', 'taxation', '.', 'The', 'exemption', 'provided', 'for', 'in', 'this', 'section', 'shall', 'apply', 'to', 'the', 'property', 'of', 'all', 'organizations', 'meeting', 'the', 'requirements', 'of', 'this', 'section', ',', 'subdivision', '(', 'b', ')', 'of', 'Section', '4', 'of', 'Article', 'XIII', 'of', 'the', 'California', 'Constitution', ',', 'and', 'paragraphs', '(', '1', ')', 'to', '(', '4', ')', ',', 'inclusive', ',', '(', '6', ')', ',', 'and', '(', '7', ')', 'of', 'subdivision', '(', 'a', ')', 'of', 'Section', '214', '.', '(', '1', ')', 'The', 'exemption', 'specified', 'by', 'subdivision', '(', 'a', ')', 'shall', 'not', 'be', 'denied', 'to', 'a', 'property', 'on', 'the', 'basis', 'that', 'the', 'property', 'is', 'used', 'for', 'fraternal', ',', 'lodge', ',', 'or', 'social', 'club', 'purposes', '.', 'With', 'regard', 'to', 'this', 'subdivision', ',', 'the', 'Legislature', 'finds', 'and', 'declares', 'all', 'of', 'the', 'following', ':', 'The', 'exempt', 'activities', 'of', 'a', 'veterans', '’', 'organization', 'as', 'described', 'in', 'subdivision', '(', 'a', ')', 'qualitatively', 'differ', 'from', 'the', 'exempt', 'activities', 'of', 'other', 'nonprofit', 'entities', 'that', 'use', 'property', 'for', 'fraternal', ',', 'lodge', ',', 'or', 'social', 'club', 'purposes', 'in', 'that', 'the', 'exempt', 'purpose', 'of', 'the', 'veterans', '’', 'organization', 'is', 'to', 'conduct', 'programs', 'to', 'perpetuate', 'the', 'memory', 'of', 'deceased', 'veterans', 'and', 'members', 'of', 'the', 'Armed', 'Forces', 'and', 'to', 'comfort', 'their', 'survivors', ',', 'to', 'conduct', 'programs', 'for', 'religious', ',', 'charitable', ',', 'scientific', ',', 'literary', ',', 'or', 'educational', 'purposes', ',', 'to', 'sponsor', 'or', 'participate', 'in', 'activities', 'of', 'a', 'patriotic', 'nature', ',', 'and', 'to', 'provide', 'social', 'and', 'recreational', 'activities', 'for', 'their', 'members', '.', 'In', 'light', 'of', 'this', 'distinction', ',', 'the', 'use', 'of', 'real', 'property', 'by', 'a', 'veterans', '’', 'organization', 'as', 'described', 'in', 'subdivision', '(', 'a', ')', ',', 'for', 'fraternal', ',', 'lodge', ',', 'or', 'social', 'club', 'purposes', 'is', 'central', 'to', 'that', 'organization', '’s', 'exempt', 'purposes', 'and', 'activities', '.', 'In', 'light', 'of', 'the', 'factors', 'set', 'forth', 'in', 'subparagraphs', '(', 'A', ')', 'and', '(', 'B', ')', ',', 'the', 'use', 'of', 'real', 'property', 'by', 'a', 'veterans', '’', 'organization', 'as', 'described', 'in', 'subdivision', '(', 'a', ')', 'for', 'fraternal', ',', 'lodge', ',', 'or', 'social', 'club', 'purposes', ',', 'constitutes', 'the', 'exclusive', 'use', 'of', 'that', 'property', 'for', 'a', 'charitable', 'purpose', 'within', 'the', 'meaning', 'of', 'subdivision', '(', 'b', ')', 'of', 'Section', '4', 'of', 'Article', 'XIII', 'of', 'the', 'California', 'Constitution', '.', 'The', 'exemption', 'provided', 'for', 'in', 'this', 'section', 'shall', 'not', 'apply', 'to', 'any', 'portion', 'of', 'a', 'property', 'that', 'consists', 'of', 'a', 'bar', 'where', 'alcoholic', 'beverages', 'are', 'served', '.', 'The', 'portion', 'of', 'the', 'property', 'ineligible', 'for', 'the', 'veterans', '’', 'organization', 'exemption', 'shall', 'be', 'that', 'area', 'used', 'primarily', 'to', 'prepare', 'and', 'serve', 'alcoholic', 'beverages', '.', 'An', 'organization', 'that', 'files', 'a', 'claim', 'for', 'the', 'exemption', 'provided', 'for', 'in', 'this', 'section', 'shall', 'file', 'with', 'the', 'assessor', 'a', 'valid', 'organizational', 'clearance', 'certificate', 'issued', 'pursuant', 'to', 'Section', '254.6', '.', 'This', 'exemption', 'shall', 'be', 'known', 'as', 'the', '“', 'veterans', '’', 'organization', 'exemption', '.', '”SECTIONHEADERSECTIONHEADER', 'Notwithstanding', 'Section', '2229', 'of', 'the', 'Revenue', 'and', 'Taxation', 'Code', ',', 'no', 'appropriation', 'is', 'made', 'by', 'this', 'act', 'and', 'the', 'state', 'shall', 'not', 'reimburse', 'any', 'local', 'agency', 'for', 'any', 'property', 'tax', 'revenues', 'lost', 'by', 'it', 'pursuant', 'to', 'this', 'act', '.', 'SECTIONHEADERSECTIONHEADER', 'This', 'act', 'provides', 'for', 'a', 'tax', 'levy', 'within', 'the', 'meaning', 'of', 'Article', 'IV', 'of', 'the', 'Constitution', 'and', 'shall', 'go', 'into', 'immediate', 'effect', '.']\n"
          ]
        }
      ]
    },
    {
      "cell_type": "code",
      "source": [
        "punctuation"
      ],
      "metadata": {
        "colab": {
          "base_uri": "https://localhost:8080/",
          "height": 35
        },
        "id": "podEdtLIwOeQ",
        "outputId": "9b08fbcd-5d59-4c2b-dee9-009ebe9bee90"
      },
      "execution_count": null,
      "outputs": [
        {
          "output_type": "execute_result",
          "data": {
            "text/plain": [
              "'!\"#$%&\\'()*+,-./:;<=>?@[\\\\]^_`{|}~'"
            ],
            "application/vnd.google.colaboratory.intrinsic+json": {
              "type": "string"
            }
          },
          "metadata": {},
          "execution_count": 9
        }
      ]
    },
    {
      "cell_type": "code",
      "source": [
        "punctuation = punctuation + '\\n'"
      ],
      "metadata": {
        "id": "ft3ybd4NwZ8K"
      },
      "execution_count": null,
      "outputs": []
    },
    {
      "cell_type": "code",
      "source": [
        "def GetWordFrequency(doc):\n",
        "  \n",
        "  word_frequnecy_ = {}\n",
        "  for word in doc:\n",
        "    if word.text.lower() not in stopwords:\n",
        "      if word.text.lower() not in punctuation:\n",
        "        if word.text not in word_frequnecy_.keys():\n",
        "          word_frequnecy_[word.text] = 1\n",
        "        else:\n",
        "          word_frequnecy_[word.text] += 1\n",
        "\n",
        "  return word_frequnecy_"
      ],
      "metadata": {
        "id": "PkrAVqZVwR5g"
      },
      "execution_count": null,
      "outputs": []
    },
    {
      "cell_type": "code",
      "source": [
        "word_frequnecy = GetWordFrequency(doc)"
      ],
      "metadata": {
        "id": "SsJTqayX7l-n"
      },
      "execution_count": null,
      "outputs": []
    },
    {
      "cell_type": "code",
      "source": [
        "max_frequency = max(word_frequnecy.values())"
      ],
      "metadata": {
        "id": "riwmhvTI0JO2"
      },
      "execution_count": null,
      "outputs": []
    },
    {
      "cell_type": "code",
      "source": [
        "for word in word_frequnecy.keys():\n",
        "  word_frequnecy[word] = word_frequnecy[word] / max_frequency"
      ],
      "metadata": {
        "id": "YpkSrVQt0JMZ"
      },
      "execution_count": null,
      "outputs": []
    },
    {
      "cell_type": "code",
      "source": [
        "print(word_frequnecy)"
      ],
      "metadata": {
        "colab": {
          "base_uri": "https://localhost:8080/"
        },
        "id": "h-HPx7VE0JGM",
        "outputId": "ba5036e5-a9ee-4d09-8afc-ac3caac0e2f3"
      },
      "execution_count": null,
      "outputs": [
        {
          "output_type": "stream",
          "name": "stdout",
          "text": [
            "{'people': 0.13043478260869565, 'State': 0.2608695652173913, 'California': 0.17391304347826086, 'enact': 0.043478260869565216, 'follows': 0.043478260869565216, 'SECTIONHEADER': 0.043478260869565216, 'Legislature': 0.08695652173913043, 'finds': 0.08695652173913043, 'declares': 0.08695652173913043, 'following': 0.08695652173913043, '1': 0.13043478260869565, '1899': 0.043478260869565216, 'congressionally': 0.043478260869565216, 'chartered': 0.13043478260869565, 'veterans': 1.0, '’': 0.6086956521739131, 'organizations': 0.5217391304347826, 'provided': 0.17391304347826086, 'valuable': 0.043478260869565216, 'service': 0.21739130434782608, 'nation': 0.08695652173913043, 'returning': 0.08695652173913043, 'members': 0.34782608695652173, 'help': 0.043478260869565216, 'preserve': 0.08695652173913043, 'memories': 0.043478260869565216, 'incidents': 0.043478260869565216, 'great': 0.043478260869565216, 'hostilities': 0.043478260869565216, 'fought': 0.043478260869565216, 'strengthen': 0.043478260869565216, 'comradeship': 0.043478260869565216, 'manage': 0.043478260869565216, 'properties': 0.08695652173913043, 'including': 0.043478260869565216, 'lodges': 0.043478260869565216, 'posts': 0.21739130434782608, 'fraternal': 0.21739130434782608, 'halls': 0.17391304347826086, 'act': 0.17391304347826086, 'safe': 0.043478260869565216, 'haven': 0.043478260869565216, 'ages': 0.043478260869565216, 'families': 0.043478260869565216, 'gather': 0.043478260869565216, 'find': 0.043478260869565216, 'camaraderie': 0.043478260869565216, 'fellowship': 0.043478260869565216, 'share': 0.043478260869565216, 'stories': 0.043478260869565216, 'seek': 0.043478260869565216, 'support': 0.17391304347826086, 'understand': 0.043478260869565216, 'unique': 0.043478260869565216, 'experiences': 0.043478260869565216, 'aids': 0.043478260869565216, 'healing': 0.043478260869565216, 'process': 0.043478260869565216, 'ensures': 0.08695652173913043, 'health': 0.043478260869565216, 'happiness': 0.043478260869565216, 'result': 0.043478260869565216, 'congressional': 0.043478260869565216, 'chartering': 0.043478260869565216, 'United': 0.13043478260869565, 'States': 0.13043478260869565, 'Internal': 0.17391304347826086, 'Revenue': 0.34782608695652173, 'Service': 0.043478260869565216, 'created': 0.043478260869565216, 'special': 0.043478260869565216, 'tax': 0.30434782608695654, 'exemption': 0.4782608695652174, 'Section': 0.43478260869565216, '501(c)(19': 0.13043478260869565, 'Code': 0.30434782608695654, 'related': 0.043478260869565216, 'federal': 0.13043478260869565, 'regulations': 0.043478260869565216, 'provide': 0.21739130434782608, 'war': 0.043478260869565216, 'auxiliary': 0.043478260869565216, 'unit': 0.043478260869565216, 'society': 0.043478260869565216, 'trust': 0.043478260869565216, 'foundation': 0.043478260869565216, 'post': 0.08695652173913043, 'organization': 0.6086956521739131, 'attributes': 0.043478260869565216, 'carries': 0.043478260869565216, 'programs': 0.21739130434782608, 'perpetuate': 0.13043478260869565, 'memory': 0.13043478260869565, 'deceased': 0.13043478260869565, 'Armed': 0.13043478260869565, 'Forces': 0.13043478260869565, 'comfort': 0.13043478260869565, 'survivors': 0.13043478260869565, 'conducts': 0.043478260869565216, 'religious': 0.13043478260869565, 'charitable': 0.4782608695652174, 'scientific': 0.13043478260869565, 'literary': 0.13043478260869565, 'educational': 0.13043478260869565, 'purposes': 0.6086956521739131, 'sponsors': 0.043478260869565216, 'participates': 0.043478260869565216, 'activities': 0.391304347826087, 'patriotic': 0.13043478260869565, 'nature': 0.13043478260869565, 'provides': 0.08695652173913043, 'social': 0.30434782608695654, 'recreational': 0.13043478260869565, '215.1': 0.13043478260869565, 'Taxation': 0.17391304347826086, 'stipulates': 0.043478260869565216, 'buildings': 0.2608695652173913, 'real': 0.17391304347826086, 'property': 0.5652173913043478, 'situated': 0.08695652173913043, 'required': 0.08695652173913043, 'convenient': 0.08695652173913043, 'use': 0.30434782608695654, 'occupation': 0.08695652173913043, 'exclusively': 0.17391304347826086, 'owned': 0.08695652173913043, 'Congress': 0.08695652173913043, 'organized': 0.08695652173913043, 'operated': 0.08695652173913043, 'solely': 0.08695652173913043, 'purpose': 0.21739130434782608, 'conducted': 0.08695652173913043, 'profit': 0.08695652173913043, 'net': 0.08695652173913043, 'earnings': 0.08695652173913043, 'benefit': 0.08695652173913043, 'private': 0.08695652173913043, 'individual': 0.08695652173913043, 'member': 0.08695652173913043, 'thereof': 0.08695652173913043, 'exempt': 0.43478260869565216, 'taxation': 0.13043478260869565, 'Chief': 0.043478260869565216, 'Counsel': 0.043478260869565216, 'Board': 0.21739130434782608, 'Equalization': 0.21739130434782608, 'concluded': 0.08695652173913043, 'based': 0.043478260869565216, '1979': 0.043478260869565216, 'appellate': 0.043478260869565216, 'court': 0.043478260869565216, 'decision': 0.043478260869565216, 'parts': 0.08695652173913043, 'American': 0.043478260869565216, 'Legion': 0.043478260869565216, 'billiard': 0.043478260869565216, 'rooms': 0.08695652173913043, 'card': 0.043478260869565216, 'similar': 0.043478260869565216, 'areas': 0.17391304347826086, '1994': 0.043478260869565216, 'memorandum': 0.043478260869565216, 'legal': 0.043478260869565216, 'division': 0.043478260869565216, 'normally': 0.043478260869565216, 'considered': 0.13043478260869565, 'eligible': 0.043478260869565216, 'exemptions': 0.043478260869565216, 'office': 0.08695652173913043, 'counsel': 0.043478260869565216, 'area': 0.08695652173913043, 'store': 0.043478260869565216, 'records': 0.043478260869565216, 'meeting': 0.08695652173913043, 'hall': 0.08695652173913043, 'bar': 0.08695652173913043, 'found': 0.043478260869565216, 'facilities': 0.17391304347826086, 'Tax': 0.043478260869565216, 'status': 0.043478260869565216, 'intended': 0.043478260869565216, 'economic': 0.08695652173913043, 'incentive': 0.043478260869565216, 'welfare': 0.043478260869565216, 'community': 0.08695652173913043, 'current': 0.043478260869565216, 'military': 0.043478260869565216, 'personnel': 0.043478260869565216, 'constriction': 0.043478260869565216, 'resulted': 0.043478260869565216, 'onerous': 0.043478260869565216, 'burden': 0.043478260869565216, 'veteran': 0.13043478260869565, 'hinders': 0.043478260869565216, 'ability': 0.043478260869565216, 'threatens': 0.043478260869565216, 'viability': 0.043478260869565216, 'local': 0.08695652173913043, 'counseling': 0.043478260869565216, 'requirements': 0.08695652173913043, 'listed': 0.043478260869565216, 'qualification': 0.043478260869565216, 'clearly': 0.043478260869565216, 'dictate': 0.043478260869565216, 'need': 0.08695652173913043, 'Programs': 0.08695652173913043, 'require': 0.13043478260869565, 'funerals': 0.043478260869565216, 'receptions': 0.043478260869565216, 'space': 0.043478260869565216, '50': 0.043478260869565216, 'attendees': 0.043478260869565216, 'Activities': 0.043478260869565216, 'accommodate': 0.043478260869565216, 'hundreds': 0.043478260869565216, 'Social': 0.043478260869565216, 'precisely': 0.043478260869565216, '“': 0.08695652173913043, '”': 0.043478260869565216, 'interpretation': 0.043478260869565216, 'reflects': 0.043478260869565216, 'lack': 0.043478260869565216, 'understanding': 0.043478260869565216, 'detrimental': 0.043478260869565216, 'good': 0.043478260869565216, 'works': 0.043478260869565216, 'performed': 0.043478260869565216, 'SECTIONHEADERSECTIONHEADER': 0.08695652173913043, 'amended': 0.043478260869565216, 'read': 0.043478260869565216, 'income': 0.043478260869565216, 'described': 0.17391304347826086, 'inures': 0.043478260869565216, 'shall': 0.391304347826087, 'section': 0.17391304347826086, 'apply': 0.08695652173913043, 'subdivision': 0.34782608695652173, 'b': 0.08695652173913043, '4': 0.13043478260869565, 'Article': 0.13043478260869565, 'XIII': 0.08695652173913043, 'Constitution': 0.13043478260869565, 'paragraphs': 0.043478260869565216, 'inclusive': 0.043478260869565216, '6': 0.043478260869565216, '7': 0.043478260869565216, '214': 0.043478260869565216, 'specified': 0.043478260869565216, 'denied': 0.043478260869565216, 'basis': 0.043478260869565216, 'lodge': 0.17391304347826086, 'club': 0.17391304347826086, 'regard': 0.043478260869565216, 'qualitatively': 0.043478260869565216, 'differ': 0.043478260869565216, 'nonprofit': 0.043478260869565216, 'entities': 0.043478260869565216, 'conduct': 0.08695652173913043, 'sponsor': 0.043478260869565216, 'participate': 0.043478260869565216, 'light': 0.08695652173913043, 'distinction': 0.043478260869565216, 'central': 0.043478260869565216, 'factors': 0.043478260869565216, 'set': 0.043478260869565216, 'forth': 0.043478260869565216, 'subparagraphs': 0.043478260869565216, 'B': 0.043478260869565216, 'constitutes': 0.043478260869565216, 'exclusive': 0.043478260869565216, 'meaning': 0.08695652173913043, 'portion': 0.08695652173913043, 'consists': 0.043478260869565216, 'alcoholic': 0.08695652173913043, 'beverages': 0.08695652173913043, 'served': 0.043478260869565216, 'ineligible': 0.043478260869565216, 'primarily': 0.043478260869565216, 'prepare': 0.043478260869565216, 'serve': 0.043478260869565216, 'files': 0.043478260869565216, 'claim': 0.043478260869565216, 'file': 0.043478260869565216, 'assessor': 0.043478260869565216, 'valid': 0.043478260869565216, 'organizational': 0.043478260869565216, 'clearance': 0.043478260869565216, 'certificate': 0.043478260869565216, 'issued': 0.043478260869565216, 'pursuant': 0.08695652173913043, '254.6': 0.043478260869565216, 'known': 0.043478260869565216, '”SECTIONHEADERSECTIONHEADER': 0.043478260869565216, 'Notwithstanding': 0.043478260869565216, '2229': 0.043478260869565216, 'appropriation': 0.043478260869565216, 'state': 0.043478260869565216, 'reimburse': 0.043478260869565216, 'agency': 0.043478260869565216, 'revenues': 0.043478260869565216, 'lost': 0.043478260869565216, 'levy': 0.043478260869565216, 'IV': 0.043478260869565216, 'immediate': 0.043478260869565216, 'effect': 0.043478260869565216}\n"
          ]
        }
      ]
    },
    {
      "cell_type": "code",
      "source": [
        "sentence_tokens = [i for i in doc.sents]\n",
        "sentence_tokens[:5]"
      ],
      "metadata": {
        "colab": {
          "base_uri": "https://localhost:8080/"
        },
        "id": "X7SOH0c50nna",
        "outputId": "453feafe-c58b-433c-a8f0-5c58f7a0df76"
      },
      "execution_count": null,
      "outputs": [
        {
          "output_type": "execute_result",
          "data": {
            "text/plain": [
              "[The people of the State of California do enact as follows: SECTIONHEADER,\n",
              " The Legislature finds and declares all of the following: (1),\n",
              " Since 1899 congressionally chartered veterans’ organizations have provided a valuable service to our nation’s returning service members.,\n",
              " These organizations help preserve the memories and incidents of the great hostilities fought by our nation, and preserve and strengthen comradeship among members.,\n",
              " These veterans’ organizations also own and manage various properties including lodges, posts, and fraternal halls.]"
            ]
          },
          "metadata": {},
          "execution_count": 16
        }
      ]
    },
    {
      "cell_type": "code",
      "source": [
        "def GetSentenceScore(sentence_tokens):\n",
        "\n",
        "  sentence_score_ = {}\n",
        "  for sent in sentence_tokens:\n",
        "    for word in sent:\n",
        "      if word.text.lower() in word_frequnecy.keys():\n",
        "        if sent not in sentence_score_.keys():\n",
        "          sentence_score_[sent] = word_frequnecy[word.text.lower()]\n",
        "        else:\n",
        "          sentence_score_[sent] += word_frequnecy[word.text.lower()]\n",
        "    \n",
        "  return sentence_score_"
      ],
      "metadata": {
        "id": "jJCjK9of0nlB"
      },
      "execution_count": null,
      "outputs": []
    },
    {
      "cell_type": "code",
      "source": [
        "sentence_score = GetSentenceScore(sentence_tokens)"
      ],
      "metadata": {
        "id": "M6lj5b6l80BZ"
      },
      "execution_count": null,
      "outputs": []
    },
    {
      "cell_type": "code",
      "source": [
        "def take(n, iterable):\n",
        "    return list(islice(iterable, n))"
      ],
      "metadata": {
        "id": "PtiZGRRM2py5"
      },
      "execution_count": null,
      "outputs": []
    },
    {
      "cell_type": "code",
      "source": [
        "take(5, sentence_score.items())"
      ],
      "metadata": {
        "colab": {
          "base_uri": "https://localhost:8080/"
        },
        "id": "eKPTjXewwwlI",
        "outputId": "f4af5ce5-94d8-4cbb-c633-b89f7a862e51"
      },
      "execution_count": null,
      "outputs": [
        {
          "output_type": "execute_result",
          "data": {
            "text/plain": [
              "[(The people of the State of California do enact as follows: SECTIONHEADER,\n",
              "  0.2608695652173913),\n",
              " (The Legislature finds and declares all of the following: (1),\n",
              "  0.3913043478260869),\n",
              " (Since 1899 congressionally chartered veterans’ organizations have provided a valuable service to our nation’s returning service members.,\n",
              "  3.521739130434783),\n",
              " (These organizations help preserve the memories and incidents of the great hostilities fought by our nation, and preserve and strengthen comradeship among members.,\n",
              "  1.478260869565217),\n",
              " (These veterans’ organizations also own and manage various properties including lodges, posts, and fraternal halls.,\n",
              "  2.9565217391304355)]"
            ]
          },
          "metadata": {},
          "execution_count": 20
        }
      ]
    },
    {
      "cell_type": "code",
      "source": [
        "sentence_length = int(len(sentence_tokens)*0.1)\n",
        "print(f\"There are {sentence_length} which counts for 10% of Sentence with maximum socre. \")"
      ],
      "metadata": {
        "colab": {
          "base_uri": "https://localhost:8080/"
        },
        "id": "eGPC2Xjf2PtL",
        "outputId": "acec0fe6-0772-4d83-9c87-584275f6ae54"
      },
      "execution_count": null,
      "outputs": [
        {
          "output_type": "stream",
          "name": "stdout",
          "text": [
            "There are 3 which counts for 10% of Sentence with maximum socre. \n"
          ]
        }
      ]
    },
    {
      "cell_type": "code",
      "source": [
        "summary_list  = nlargest(sentence_length, sentence_score, key=sentence_score.get)"
      ],
      "metadata": {
        "id": "GdxFKbjL2Pq4"
      },
      "execution_count": null,
      "outputs": []
    },
    {
      "cell_type": "code",
      "source": [
        "Summary = ' '.join([word.text for word in summary_list])"
      ],
      "metadata": {
        "id": "UI1xB1Ex2Pou"
      },
      "execution_count": null,
      "outputs": []
    },
    {
      "cell_type": "code",
      "source": [
        "GoldSummary = data['summary'][0]"
      ],
      "metadata": {
        "id": "qQdOd8gH48pM"
      },
      "execution_count": null,
      "outputs": []
    },
    {
      "cell_type": "code",
      "source": [
        "rouge = Rouge()\n",
        "score = rouge.get_scores(Summary, data['summary'][0])"
      ],
      "metadata": {
        "id": "knp76L2aT1qF"
      },
      "execution_count": null,
      "outputs": []
    },
    {
      "cell_type": "code",
      "source": [
        "pd.DataFrame(score[0])"
      ],
      "metadata": {
        "colab": {
          "base_uri": "https://localhost:8080/",
          "height": 143
        },
        "id": "6XVIRssLUMVt",
        "outputId": "c13cfb7c-10dc-448d-b887-6384bd9a61b6"
      },
      "execution_count": null,
      "outputs": [
        {
          "output_type": "execute_result",
          "data": {
            "text/plain": [
              "    rouge-1   rouge-2   rouge-l\n",
              "r  0.474227  0.188312  0.381443\n",
              "p  0.353846  0.133641  0.284615\n",
              "f  0.405286  0.156334  0.325991"
            ],
            "text/html": [
              "\n",
              "  <div id=\"df-c64a7bfd-abe1-4cdc-94c0-764441aa4fc4\">\n",
              "    <div class=\"colab-df-container\">\n",
              "      <div>\n",
              "<style scoped>\n",
              "    .dataframe tbody tr th:only-of-type {\n",
              "        vertical-align: middle;\n",
              "    }\n",
              "\n",
              "    .dataframe tbody tr th {\n",
              "        vertical-align: top;\n",
              "    }\n",
              "\n",
              "    .dataframe thead th {\n",
              "        text-align: right;\n",
              "    }\n",
              "</style>\n",
              "<table border=\"1\" class=\"dataframe\">\n",
              "  <thead>\n",
              "    <tr style=\"text-align: right;\">\n",
              "      <th></th>\n",
              "      <th>rouge-1</th>\n",
              "      <th>rouge-2</th>\n",
              "      <th>rouge-l</th>\n",
              "    </tr>\n",
              "  </thead>\n",
              "  <tbody>\n",
              "    <tr>\n",
              "      <th>r</th>\n",
              "      <td>0.474227</td>\n",
              "      <td>0.188312</td>\n",
              "      <td>0.381443</td>\n",
              "    </tr>\n",
              "    <tr>\n",
              "      <th>p</th>\n",
              "      <td>0.353846</td>\n",
              "      <td>0.133641</td>\n",
              "      <td>0.284615</td>\n",
              "    </tr>\n",
              "    <tr>\n",
              "      <th>f</th>\n",
              "      <td>0.405286</td>\n",
              "      <td>0.156334</td>\n",
              "      <td>0.325991</td>\n",
              "    </tr>\n",
              "  </tbody>\n",
              "</table>\n",
              "</div>\n",
              "      <button class=\"colab-df-convert\" onclick=\"convertToInteractive('df-c64a7bfd-abe1-4cdc-94c0-764441aa4fc4')\"\n",
              "              title=\"Convert this dataframe to an interactive table.\"\n",
              "              style=\"display:none;\">\n",
              "        \n",
              "  <svg xmlns=\"http://www.w3.org/2000/svg\" height=\"24px\"viewBox=\"0 0 24 24\"\n",
              "       width=\"24px\">\n",
              "    <path d=\"M0 0h24v24H0V0z\" fill=\"none\"/>\n",
              "    <path d=\"M18.56 5.44l.94 2.06.94-2.06 2.06-.94-2.06-.94-.94-2.06-.94 2.06-2.06.94zm-11 1L8.5 8.5l.94-2.06 2.06-.94-2.06-.94L8.5 2.5l-.94 2.06-2.06.94zm10 10l.94 2.06.94-2.06 2.06-.94-2.06-.94-.94-2.06-.94 2.06-2.06.94z\"/><path d=\"M17.41 7.96l-1.37-1.37c-.4-.4-.92-.59-1.43-.59-.52 0-1.04.2-1.43.59L10.3 9.45l-7.72 7.72c-.78.78-.78 2.05 0 2.83L4 21.41c.39.39.9.59 1.41.59.51 0 1.02-.2 1.41-.59l7.78-7.78 2.81-2.81c.8-.78.8-2.07 0-2.86zM5.41 20L4 18.59l7.72-7.72 1.47 1.35L5.41 20z\"/>\n",
              "  </svg>\n",
              "      </button>\n",
              "      \n",
              "  <style>\n",
              "    .colab-df-container {\n",
              "      display:flex;\n",
              "      flex-wrap:wrap;\n",
              "      gap: 12px;\n",
              "    }\n",
              "\n",
              "    .colab-df-convert {\n",
              "      background-color: #E8F0FE;\n",
              "      border: none;\n",
              "      border-radius: 50%;\n",
              "      cursor: pointer;\n",
              "      display: none;\n",
              "      fill: #1967D2;\n",
              "      height: 32px;\n",
              "      padding: 0 0 0 0;\n",
              "      width: 32px;\n",
              "    }\n",
              "\n",
              "    .colab-df-convert:hover {\n",
              "      background-color: #E2EBFA;\n",
              "      box-shadow: 0px 1px 2px rgba(60, 64, 67, 0.3), 0px 1px 3px 1px rgba(60, 64, 67, 0.15);\n",
              "      fill: #174EA6;\n",
              "    }\n",
              "\n",
              "    [theme=dark] .colab-df-convert {\n",
              "      background-color: #3B4455;\n",
              "      fill: #D2E3FC;\n",
              "    }\n",
              "\n",
              "    [theme=dark] .colab-df-convert:hover {\n",
              "      background-color: #434B5C;\n",
              "      box-shadow: 0px 1px 3px 1px rgba(0, 0, 0, 0.15);\n",
              "      filter: drop-shadow(0px 1px 2px rgba(0, 0, 0, 0.3));\n",
              "      fill: #FFFFFF;\n",
              "    }\n",
              "  </style>\n",
              "\n",
              "      <script>\n",
              "        const buttonEl =\n",
              "          document.querySelector('#df-c64a7bfd-abe1-4cdc-94c0-764441aa4fc4 button.colab-df-convert');\n",
              "        buttonEl.style.display =\n",
              "          google.colab.kernel.accessAllowed ? 'block' : 'none';\n",
              "\n",
              "        async function convertToInteractive(key) {\n",
              "          const element = document.querySelector('#df-c64a7bfd-abe1-4cdc-94c0-764441aa4fc4');\n",
              "          const dataTable =\n",
              "            await google.colab.kernel.invokeFunction('convertToInteractive',\n",
              "                                                     [key], {});\n",
              "          if (!dataTable) return;\n",
              "\n",
              "          const docLinkHtml = 'Like what you see? Visit the ' +\n",
              "            '<a target=\"_blank\" href=https://colab.research.google.com/notebooks/data_table.ipynb>data table notebook</a>'\n",
              "            + ' to learn more about interactive tables.';\n",
              "          element.innerHTML = '';\n",
              "          dataTable['output_type'] = 'display_data';\n",
              "          await google.colab.output.renderOutput(dataTable, element);\n",
              "          const docLink = document.createElement('div');\n",
              "          docLink.innerHTML = docLinkHtml;\n",
              "          element.appendChild(docLink);\n",
              "        }\n",
              "      </script>\n",
              "    </div>\n",
              "  </div>\n",
              "  "
            ]
          },
          "metadata": {},
          "execution_count": 32
        }
      ]
    },
    {
      "cell_type": "code",
      "source": [
        ""
      ],
      "metadata": {
        "id": "phMfvB8P60vy"
      },
      "execution_count": null,
      "outputs": []
    },
    {
      "cell_type": "markdown",
      "source": [
        "**For Whole Set**"
      ],
      "metadata": {
        "id": "HpbZNOg-63JJ"
      }
    },
    {
      "cell_type": "code",
      "source": [
        "text = data['clean_text']\n",
        "GoldSummaries =  data['summary']\n",
        "SysSummaries = []"
      ],
      "metadata": {
        "id": "ffBMllCm60tm"
      },
      "execution_count": null,
      "outputs": []
    },
    {
      "cell_type": "code",
      "source": [
        "def summaries_case(case):\n",
        "\n",
        "  doc = nlp(case)\n",
        "  tokens = [token.text for token in doc]\n",
        "  word_frequnecy = GetWordFrequency(doc)\n",
        "  max_frequency = max(word_frequnecy.values())\n",
        "\n",
        "  for word in word_frequnecy.keys():\n",
        "      word_frequnecy[word] = word_frequnecy[word] / max_frequency\n",
        "\n",
        "  sentence_tokens = [i for i in doc.sents]\n",
        "  sentence_score = GetSentenceScore(sentence_tokens)\n",
        "  sentence_length = int(len(sentence_tokens)*0.1)\n",
        "\n",
        "  summary_list  = nlargest(sentence_length, sentence_score, key=sentence_score.get)\n",
        "  Summary = ' '.join([word.text for word in summary_list])\n",
        "\n",
        "  return Summary"
      ],
      "metadata": {
        "id": "lDjECJtj60rl"
      },
      "execution_count": null,
      "outputs": []
    },
    {
      "cell_type": "code",
      "source": [
        "for i, case in enumerate(data['clean_text']):\n",
        "\n",
        "  try:\n",
        "    summary = summaries_case(case)\n",
        "    SysSummaries.append(summary)\n",
        "    print(i)\n",
        "  except Exception as e:\n",
        "    SysSummaries.append(np.NaN)\n",
        "    print(e, 'for' ,i)"
      ],
      "metadata": {
        "id": "iWed622i60pO"
      },
      "execution_count": null,
      "outputs": []
    },
    {
      "cell_type": "code",
      "source": [
        "len(SysSummaries), len(GoldSummaries)"
      ],
      "metadata": {
        "colab": {
          "base_uri": "https://localhost:8080/"
        },
        "id": "kFU_j8DLDQEY",
        "outputId": "f4ed55b3-68cd-4dc3-9527-4dfc4937314c"
      },
      "execution_count": null,
      "outputs": [
        {
          "output_type": "execute_result",
          "data": {
            "text/plain": [
              "(1237, 1237)"
            ]
          },
          "metadata": {},
          "execution_count": 44
        }
      ]
    },
    {
      "cell_type": "code",
      "source": [
        "DFSUMResuts = pd.DataFrame(zip(SysSummaries, GoldSummaries), columns = ['SysSummaries', 'GoldSummaries'])"
      ],
      "metadata": {
        "id": "orVaOGRZD8PC"
      },
      "execution_count": null,
      "outputs": []
    },
    {
      "cell_type": "code",
      "source": [
        "TfIdfRouge = rouge.get_scores(DFSUMResuts['SysSummaries'], DFSUMResuts['GoldSummaries'], avg=True)"
      ],
      "metadata": {
        "id": "Ww3LgVjDDfj2"
      },
      "execution_count": null,
      "outputs": []
    },
    {
      "cell_type": "code",
      "source": [
        "TfIdfRouge = pd.DataFrame(TfIdfRouge).set_index([[\"recall\", \"precision\", \"f-measure\"]])\n",
        "TfIdfRouge"
      ],
      "metadata": {
        "colab": {
          "base_uri": "https://localhost:8080/",
          "height": 143
        },
        "id": "RhPGdwMpXXHW",
        "outputId": "b41604da-8a36-45be-b605-306eede2c53b"
      },
      "execution_count": null,
      "outputs": [
        {
          "output_type": "execute_result",
          "data": {
            "text/plain": [
              "            rouge-1   rouge-2   rouge-l\n",
              "recall     0.331921  0.152646  0.291707\n",
              "precision  0.393599  0.200556  0.348015\n",
              "f-measure  0.339730  0.159899  0.299285"
            ],
            "text/html": [
              "\n",
              "  <div id=\"df-9647dddc-cb4f-4f8f-a466-4bada5766827\">\n",
              "    <div class=\"colab-df-container\">\n",
              "      <div>\n",
              "<style scoped>\n",
              "    .dataframe tbody tr th:only-of-type {\n",
              "        vertical-align: middle;\n",
              "    }\n",
              "\n",
              "    .dataframe tbody tr th {\n",
              "        vertical-align: top;\n",
              "    }\n",
              "\n",
              "    .dataframe thead th {\n",
              "        text-align: right;\n",
              "    }\n",
              "</style>\n",
              "<table border=\"1\" class=\"dataframe\">\n",
              "  <thead>\n",
              "    <tr style=\"text-align: right;\">\n",
              "      <th></th>\n",
              "      <th>rouge-1</th>\n",
              "      <th>rouge-2</th>\n",
              "      <th>rouge-l</th>\n",
              "    </tr>\n",
              "  </thead>\n",
              "  <tbody>\n",
              "    <tr>\n",
              "      <th>recall</th>\n",
              "      <td>0.331921</td>\n",
              "      <td>0.152646</td>\n",
              "      <td>0.291707</td>\n",
              "    </tr>\n",
              "    <tr>\n",
              "      <th>precision</th>\n",
              "      <td>0.393599</td>\n",
              "      <td>0.200556</td>\n",
              "      <td>0.348015</td>\n",
              "    </tr>\n",
              "    <tr>\n",
              "      <th>f-measure</th>\n",
              "      <td>0.339730</td>\n",
              "      <td>0.159899</td>\n",
              "      <td>0.299285</td>\n",
              "    </tr>\n",
              "  </tbody>\n",
              "</table>\n",
              "</div>\n",
              "      <button class=\"colab-df-convert\" onclick=\"convertToInteractive('df-9647dddc-cb4f-4f8f-a466-4bada5766827')\"\n",
              "              title=\"Convert this dataframe to an interactive table.\"\n",
              "              style=\"display:none;\">\n",
              "        \n",
              "  <svg xmlns=\"http://www.w3.org/2000/svg\" height=\"24px\"viewBox=\"0 0 24 24\"\n",
              "       width=\"24px\">\n",
              "    <path d=\"M0 0h24v24H0V0z\" fill=\"none\"/>\n",
              "    <path d=\"M18.56 5.44l.94 2.06.94-2.06 2.06-.94-2.06-.94-.94-2.06-.94 2.06-2.06.94zm-11 1L8.5 8.5l.94-2.06 2.06-.94-2.06-.94L8.5 2.5l-.94 2.06-2.06.94zm10 10l.94 2.06.94-2.06 2.06-.94-2.06-.94-.94-2.06-.94 2.06-2.06.94z\"/><path d=\"M17.41 7.96l-1.37-1.37c-.4-.4-.92-.59-1.43-.59-.52 0-1.04.2-1.43.59L10.3 9.45l-7.72 7.72c-.78.78-.78 2.05 0 2.83L4 21.41c.39.39.9.59 1.41.59.51 0 1.02-.2 1.41-.59l7.78-7.78 2.81-2.81c.8-.78.8-2.07 0-2.86zM5.41 20L4 18.59l7.72-7.72 1.47 1.35L5.41 20z\"/>\n",
              "  </svg>\n",
              "      </button>\n",
              "      \n",
              "  <style>\n",
              "    .colab-df-container {\n",
              "      display:flex;\n",
              "      flex-wrap:wrap;\n",
              "      gap: 12px;\n",
              "    }\n",
              "\n",
              "    .colab-df-convert {\n",
              "      background-color: #E8F0FE;\n",
              "      border: none;\n",
              "      border-radius: 50%;\n",
              "      cursor: pointer;\n",
              "      display: none;\n",
              "      fill: #1967D2;\n",
              "      height: 32px;\n",
              "      padding: 0 0 0 0;\n",
              "      width: 32px;\n",
              "    }\n",
              "\n",
              "    .colab-df-convert:hover {\n",
              "      background-color: #E2EBFA;\n",
              "      box-shadow: 0px 1px 2px rgba(60, 64, 67, 0.3), 0px 1px 3px 1px rgba(60, 64, 67, 0.15);\n",
              "      fill: #174EA6;\n",
              "    }\n",
              "\n",
              "    [theme=dark] .colab-df-convert {\n",
              "      background-color: #3B4455;\n",
              "      fill: #D2E3FC;\n",
              "    }\n",
              "\n",
              "    [theme=dark] .colab-df-convert:hover {\n",
              "      background-color: #434B5C;\n",
              "      box-shadow: 0px 1px 3px 1px rgba(0, 0, 0, 0.15);\n",
              "      filter: drop-shadow(0px 1px 2px rgba(0, 0, 0, 0.3));\n",
              "      fill: #FFFFFF;\n",
              "    }\n",
              "  </style>\n",
              "\n",
              "      <script>\n",
              "        const buttonEl =\n",
              "          document.querySelector('#df-9647dddc-cb4f-4f8f-a466-4bada5766827 button.colab-df-convert');\n",
              "        buttonEl.style.display =\n",
              "          google.colab.kernel.accessAllowed ? 'block' : 'none';\n",
              "\n",
              "        async function convertToInteractive(key) {\n",
              "          const element = document.querySelector('#df-9647dddc-cb4f-4f8f-a466-4bada5766827');\n",
              "          const dataTable =\n",
              "            await google.colab.kernel.invokeFunction('convertToInteractive',\n",
              "                                                     [key], {});\n",
              "          if (!dataTable) return;\n",
              "\n",
              "          const docLinkHtml = 'Like what you see? Visit the ' +\n",
              "            '<a target=\"_blank\" href=https://colab.research.google.com/notebooks/data_table.ipynb>data table notebook</a>'\n",
              "            + ' to learn more about interactive tables.';\n",
              "          element.innerHTML = '';\n",
              "          dataTable['output_type'] = 'display_data';\n",
              "          await google.colab.output.renderOutput(dataTable, element);\n",
              "          const docLink = document.createElement('div');\n",
              "          docLink.innerHTML = docLinkHtml;\n",
              "          element.appendChild(docLink);\n",
              "        }\n",
              "      </script>\n",
              "    </div>\n",
              "  </div>\n",
              "  "
            ]
          },
          "metadata": {},
          "execution_count": 47
        }
      ]
    },
    {
      "cell_type": "code",
      "source": [
        "path = \"/content/drive/MyDrive/LegSuM/scores/\"\n",
        "\n",
        "TfIdfRouge.to_csv(path + 'TfIdfRouge.csv', index=True, header=True)"
      ],
      "metadata": {
        "id": "5YdQRlfRJb0B"
      },
      "execution_count": null,
      "outputs": []
    },
    {
      "cell_type": "code",
      "source": [
        ""
      ],
      "metadata": {
        "id": "YiJELG_8Jbxd"
      },
      "execution_count": null,
      "outputs": []
    }
  ]
}