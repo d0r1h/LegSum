{
  "nbformat": 4,
  "nbformat_minor": 0,
  "metadata": {
    "colab": {
      "name": "Extractive.ipynb",
      "provenance": [],
      "collapsed_sections": []
    },
    "kernelspec": {
      "name": "python3",
      "display_name": "Python 3"
    },
    "language_info": {
      "name": "python"
    }
  },
  "cells": [
    {
      "cell_type": "code",
      "source": [
        "!pip install rouge sumy"
      ],
      "metadata": {
        "id": "fksHFyypsuLj"
      },
      "execution_count": null,
      "outputs": []
    },
    {
      "cell_type": "code",
      "execution_count": null,
      "metadata": {
        "id": "e7tET0Nesaem"
      },
      "outputs": [],
      "source": [
        "import sys\n",
        "import nltk\n",
        "import pandas as pd\n",
        "from rouge import Rouge\n",
        "from sumy.nlp.stemmers import Stemmer\n",
        "from sumy.nlp.tokenizers import Tokenizer\n",
        "from sumy.parsers.plaintext import PlaintextParser\n",
        "from sumy.summarizers.kl import KLSummarizer\n",
        "from sumy.summarizers.lsa import LsaSummarizer\n",
        "from sumy.summarizers.lex_rank import LexRankSummarizer\n",
        "from sumy.summarizers.sum_basic import SumBasicSummarizer\n",
        "from sumy.summarizers.text_rank import TextRankSummarizer"
      ]
    },
    {
      "cell_type": "code",
      "source": [
        "path = \"/content/drive/MyDrive/LegSuM/Data/catest_processed.csv\"\n",
        "data = pd.read_csv(path)"
      ],
      "metadata": {
        "id": "cmtcSJnbssG_"
      },
      "execution_count": null,
      "outputs": []
    },
    {
      "cell_type": "code",
      "source": [
        "data.sample(5)"
      ],
      "metadata": {
        "colab": {
          "base_uri": "https://localhost:8080/",
          "height": 250
        },
        "id": "qFh2X0XrssEq",
        "outputId": "d3ae6941-1da7-44cc-facc-9cfdee34c776"
      },
      "execution_count": null,
      "outputs": [
        {
          "output_type": "execute_result",
          "data": {
            "text/plain": [
              "      bill_id                                         clean_text  \\\n",
              "440    AB 163  The people of the State of California do enact...   \n",
              "1037  AB 2172  The people of the State of California do enact...   \n",
              "116    SB 411  The people of the State of California do enact...   \n",
              "1200  AB 2766  The people of the State of California do enact...   \n",
              "292   SB 1072  The people of the State of California do enact...   \n",
              "\n",
              "                                                summary  sum_len  text_len  \\\n",
              "440   Existing law authorizes the Commission on Teac...     1666      5803   \n",
              "1037  Existing law authorizes a person to manufactur...      810      5798   \n",
              "116   Under existing law, every person who deters or...     1310      5217   \n",
              "1200  Existing law establishes the Student Aid Commi...      930      9983   \n",
              "292   Existing law requires the county superintenden...     3530     12721   \n",
              "\n",
              "      cleantext_len  \n",
              "440            5710  \n",
              "1037           5711  \n",
              "116            5121  \n",
              "1200           9788  \n",
              "292           12543  "
            ],
            "text/html": [
              "\n",
              "  <div id=\"df-cd41cf82-aed0-4655-b6c9-9cb4ce515844\">\n",
              "    <div class=\"colab-df-container\">\n",
              "      <div>\n",
              "<style scoped>\n",
              "    .dataframe tbody tr th:only-of-type {\n",
              "        vertical-align: middle;\n",
              "    }\n",
              "\n",
              "    .dataframe tbody tr th {\n",
              "        vertical-align: top;\n",
              "    }\n",
              "\n",
              "    .dataframe thead th {\n",
              "        text-align: right;\n",
              "    }\n",
              "</style>\n",
              "<table border=\"1\" class=\"dataframe\">\n",
              "  <thead>\n",
              "    <tr style=\"text-align: right;\">\n",
              "      <th></th>\n",
              "      <th>bill_id</th>\n",
              "      <th>clean_text</th>\n",
              "      <th>summary</th>\n",
              "      <th>sum_len</th>\n",
              "      <th>text_len</th>\n",
              "      <th>cleantext_len</th>\n",
              "    </tr>\n",
              "  </thead>\n",
              "  <tbody>\n",
              "    <tr>\n",
              "      <th>440</th>\n",
              "      <td>AB 163</td>\n",
              "      <td>The people of the State of California do enact...</td>\n",
              "      <td>Existing law authorizes the Commission on Teac...</td>\n",
              "      <td>1666</td>\n",
              "      <td>5803</td>\n",
              "      <td>5710</td>\n",
              "    </tr>\n",
              "    <tr>\n",
              "      <th>1037</th>\n",
              "      <td>AB 2172</td>\n",
              "      <td>The people of the State of California do enact...</td>\n",
              "      <td>Existing law authorizes a person to manufactur...</td>\n",
              "      <td>810</td>\n",
              "      <td>5798</td>\n",
              "      <td>5711</td>\n",
              "    </tr>\n",
              "    <tr>\n",
              "      <th>116</th>\n",
              "      <td>SB 411</td>\n",
              "      <td>The people of the State of California do enact...</td>\n",
              "      <td>Under existing law, every person who deters or...</td>\n",
              "      <td>1310</td>\n",
              "      <td>5217</td>\n",
              "      <td>5121</td>\n",
              "    </tr>\n",
              "    <tr>\n",
              "      <th>1200</th>\n",
              "      <td>AB 2766</td>\n",
              "      <td>The people of the State of California do enact...</td>\n",
              "      <td>Existing law establishes the Student Aid Commi...</td>\n",
              "      <td>930</td>\n",
              "      <td>9983</td>\n",
              "      <td>9788</td>\n",
              "    </tr>\n",
              "    <tr>\n",
              "      <th>292</th>\n",
              "      <td>SB 1072</td>\n",
              "      <td>The people of the State of California do enact...</td>\n",
              "      <td>Existing law requires the county superintenden...</td>\n",
              "      <td>3530</td>\n",
              "      <td>12721</td>\n",
              "      <td>12543</td>\n",
              "    </tr>\n",
              "  </tbody>\n",
              "</table>\n",
              "</div>\n",
              "      <button class=\"colab-df-convert\" onclick=\"convertToInteractive('df-cd41cf82-aed0-4655-b6c9-9cb4ce515844')\"\n",
              "              title=\"Convert this dataframe to an interactive table.\"\n",
              "              style=\"display:none;\">\n",
              "        \n",
              "  <svg xmlns=\"http://www.w3.org/2000/svg\" height=\"24px\"viewBox=\"0 0 24 24\"\n",
              "       width=\"24px\">\n",
              "    <path d=\"M0 0h24v24H0V0z\" fill=\"none\"/>\n",
              "    <path d=\"M18.56 5.44l.94 2.06.94-2.06 2.06-.94-2.06-.94-.94-2.06-.94 2.06-2.06.94zm-11 1L8.5 8.5l.94-2.06 2.06-.94-2.06-.94L8.5 2.5l-.94 2.06-2.06.94zm10 10l.94 2.06.94-2.06 2.06-.94-2.06-.94-.94-2.06-.94 2.06-2.06.94z\"/><path d=\"M17.41 7.96l-1.37-1.37c-.4-.4-.92-.59-1.43-.59-.52 0-1.04.2-1.43.59L10.3 9.45l-7.72 7.72c-.78.78-.78 2.05 0 2.83L4 21.41c.39.39.9.59 1.41.59.51 0 1.02-.2 1.41-.59l7.78-7.78 2.81-2.81c.8-.78.8-2.07 0-2.86zM5.41 20L4 18.59l7.72-7.72 1.47 1.35L5.41 20z\"/>\n",
              "  </svg>\n",
              "      </button>\n",
              "      \n",
              "  <style>\n",
              "    .colab-df-container {\n",
              "      display:flex;\n",
              "      flex-wrap:wrap;\n",
              "      gap: 12px;\n",
              "    }\n",
              "\n",
              "    .colab-df-convert {\n",
              "      background-color: #E8F0FE;\n",
              "      border: none;\n",
              "      border-radius: 50%;\n",
              "      cursor: pointer;\n",
              "      display: none;\n",
              "      fill: #1967D2;\n",
              "      height: 32px;\n",
              "      padding: 0 0 0 0;\n",
              "      width: 32px;\n",
              "    }\n",
              "\n",
              "    .colab-df-convert:hover {\n",
              "      background-color: #E2EBFA;\n",
              "      box-shadow: 0px 1px 2px rgba(60, 64, 67, 0.3), 0px 1px 3px 1px rgba(60, 64, 67, 0.15);\n",
              "      fill: #174EA6;\n",
              "    }\n",
              "\n",
              "    [theme=dark] .colab-df-convert {\n",
              "      background-color: #3B4455;\n",
              "      fill: #D2E3FC;\n",
              "    }\n",
              "\n",
              "    [theme=dark] .colab-df-convert:hover {\n",
              "      background-color: #434B5C;\n",
              "      box-shadow: 0px 1px 3px 1px rgba(0, 0, 0, 0.15);\n",
              "      filter: drop-shadow(0px 1px 2px rgba(0, 0, 0, 0.3));\n",
              "      fill: #FFFFFF;\n",
              "    }\n",
              "  </style>\n",
              "\n",
              "      <script>\n",
              "        const buttonEl =\n",
              "          document.querySelector('#df-cd41cf82-aed0-4655-b6c9-9cb4ce515844 button.colab-df-convert');\n",
              "        buttonEl.style.display =\n",
              "          google.colab.kernel.accessAllowed ? 'block' : 'none';\n",
              "\n",
              "        async function convertToInteractive(key) {\n",
              "          const element = document.querySelector('#df-cd41cf82-aed0-4655-b6c9-9cb4ce515844');\n",
              "          const dataTable =\n",
              "            await google.colab.kernel.invokeFunction('convertToInteractive',\n",
              "                                                     [key], {});\n",
              "          if (!dataTable) return;\n",
              "\n",
              "          const docLinkHtml = 'Like what you see? Visit the ' +\n",
              "            '<a target=\"_blank\" href=https://colab.research.google.com/notebooks/data_table.ipynb>data table notebook</a>'\n",
              "            + ' to learn more about interactive tables.';\n",
              "          element.innerHTML = '';\n",
              "          dataTable['output_type'] = 'display_data';\n",
              "          await google.colab.output.renderOutput(dataTable, element);\n",
              "          const docLink = document.createElement('div');\n",
              "          docLink.innerHTML = docLinkHtml;\n",
              "          element.appendChild(docLink);\n",
              "        }\n",
              "      </script>\n",
              "    </div>\n",
              "  </div>\n",
              "  "
            ]
          },
          "metadata": {},
          "execution_count": 8
        }
      ]
    },
    {
      "cell_type": "code",
      "source": [
        "nltk.download(\"punkt\")\n",
        "rouge = Rouge()"
      ],
      "metadata": {
        "colab": {
          "base_uri": "https://localhost:8080/"
        },
        "id": "XqqnMoWnssCw",
        "outputId": "5a9c9de6-a17b-43a3-9cb2-bc97e8f357d0"
      },
      "execution_count": null,
      "outputs": [
        {
          "output_type": "stream",
          "name": "stdout",
          "text": [
            "[nltk_data] Downloading package punkt to /root/nltk_data...\n",
            "[nltk_data]   Unzipping tokenizers/punkt.zip.\n"
          ]
        }
      ]
    },
    {
      "cell_type": "code",
      "source": [
        "print(sys.getrecursionlimit())\n",
        "sys.setrecursionlimit(5000)\n",
        "print(sys.getrecursionlimit())"
      ],
      "metadata": {
        "colab": {
          "base_uri": "https://localhost:8080/"
        },
        "id": "KWNDXOOrssAT",
        "outputId": "7f3ee70b-b375-41c1-a97e-7e4748bf4f73"
      },
      "execution_count": null,
      "outputs": [
        {
          "output_type": "stream",
          "name": "stdout",
          "text": [
            "1000\n",
            "5000\n"
          ]
        }
      ]
    },
    {
      "cell_type": "code",
      "source": [
        "def summarize(text, sumarizer, SENTENCES_COUNT):\n",
        "    sentences_ = []\n",
        "    doc = text\n",
        "    doc_ = PlaintextParser(doc, Tokenizer(\"en\")).document\n",
        "    for sentence in sumarizer(doc_, SENTENCES_COUNT):\n",
        "        sentences_.append(str(sentence))\n",
        "\n",
        "    summm_ = \" \".join(sentences_)\n",
        "    return summm_"
      ],
      "metadata": {
        "id": "XqACwv04tFwQ"
      },
      "execution_count": null,
      "outputs": []
    },
    {
      "cell_type": "code",
      "source": [
        "data[\"LexRankSummary\"] = data[\"clean_text\"].map(\n",
        "    lambda x: summarize(x, LexRankSummarizer(), 5)\n",
        ")\n",
        "data[\"KLSummary\"] = data[\"clean_text\"].map(\n",
        "    lambda x: summarize(x, KLSummarizer(), 5)\n",
        ")\n",
        "data[\"TextRankSummary\"] = data[\"clean_text\"].map(\n",
        "    lambda x: summarize(x, TextRankSummarizer(), 5)\n",
        ")\n",
        "data[\"SumBasicSummary\"] = data[\"clean_text\"].map(\n",
        "    lambda x: summarize(x, SumBasicSummarizer(), 5)\n",
        ")\n",
        "data[\"LsaSummary\"] = data[\"clean_text\"].map(\n",
        "    lambda x: summarize(x, LsaSummarizer(), 5)\n",
        ")"
      ],
      "metadata": {
        "id": "TTMe-b5LtFt8"
      },
      "execution_count": null,
      "outputs": []
    },
    {
      "cell_type": "code",
      "source": [
        "data[['summary','LexRankSummary','KLSummary','TextRankSummary','SumBasicSummary','LsaSummary']].sample(5)"
      ],
      "metadata": {
        "colab": {
          "base_uri": "https://localhost:8080/",
          "height": 424
        },
        "id": "ciZIClZBvsRA",
        "outputId": "679ac0c0-2f40-4f33-bb5a-27d3f60e59d2"
      },
      "execution_count": null,
      "outputs": [
        {
          "output_type": "execute_result",
          "data": {
            "text/plain": [
              "                                               summary  \\\n",
              "631  The Lempert-Keene-Seastrand Oil Spill Preventi...   \n",
              "988  Existing law establishes the California Coasta...   \n",
              "187  Existing law defines specified terms for purpo...   \n",
              "812  Existing law requires the adopted course of st...   \n",
              "827  Existing law provides for the In-Home Supporti...   \n",
              "\n",
              "                                        LexRankSummary  \\\n",
              "631  The oil spill prevention and administration fe...   \n",
              "988  However, a communication made for the purpose ...   \n",
              "187  A corporation or other entity with outstanding...   \n",
              "812  The people of the State of California do enact...   \n",
              "827  For purposes of this section, “authorized repr...   \n",
              "\n",
              "                                             KLSummary  \\\n",
              "631  The fee shall be collected by the marine termi...   \n",
              "988  A placement agent, as defined in Section 82047...   \n",
              "187  “Buy” includes exchange, offer to buy, or soli...   \n",
              "812  Science, including the biological and physical...   \n",
              "827  Specifies the responsibilities to be performed...   \n",
              "\n",
              "                                       TextRankSummary  \\\n",
              "631  (1) The oil spill prevention and administratio...   \n",
              "988  However, a communication made for the purpose ...   \n",
              "187  “Engage in the business” means the disseminati...   \n",
              "812  Instruction shall provide a foundation for und...   \n",
              "827  For purposes of this section, “authorized repr...   \n",
              "\n",
              "                                       SumBasicSummary  \\\n",
              "631  The refinery shall collect the fee from the ow...   \n",
              "988  Commission and does not include staff of the c...   \n",
              "187  “Borrower” means the loan applicant. The pool ...   \n",
              "812  The adopted course of study for grades 1 to 6,...   \n",
              "827  An individual who is prevented from being a pr...   \n",
              "\n",
              "                                            LsaSummary  \n",
              "631  The annual assessment shall not exceed six and...  \n",
              "988  For purposes of proceedings before the Califor...  \n",
              "187  “Annual audit” means a certified audit of the ...  \n",
              "812  The Legislature finds and declares that neithe...  \n",
              "827  For purposes of this section, “authorized repr...  "
            ],
            "text/html": [
              "\n",
              "  <div id=\"df-31bdf82c-d500-4fa1-8496-f714e2832511\">\n",
              "    <div class=\"colab-df-container\">\n",
              "      <div>\n",
              "<style scoped>\n",
              "    .dataframe tbody tr th:only-of-type {\n",
              "        vertical-align: middle;\n",
              "    }\n",
              "\n",
              "    .dataframe tbody tr th {\n",
              "        vertical-align: top;\n",
              "    }\n",
              "\n",
              "    .dataframe thead th {\n",
              "        text-align: right;\n",
              "    }\n",
              "</style>\n",
              "<table border=\"1\" class=\"dataframe\">\n",
              "  <thead>\n",
              "    <tr style=\"text-align: right;\">\n",
              "      <th></th>\n",
              "      <th>summary</th>\n",
              "      <th>LexRankSummary</th>\n",
              "      <th>KLSummary</th>\n",
              "      <th>TextRankSummary</th>\n",
              "      <th>SumBasicSummary</th>\n",
              "      <th>LsaSummary</th>\n",
              "    </tr>\n",
              "  </thead>\n",
              "  <tbody>\n",
              "    <tr>\n",
              "      <th>631</th>\n",
              "      <td>The Lempert-Keene-Seastrand Oil Spill Preventi...</td>\n",
              "      <td>The oil spill prevention and administration fe...</td>\n",
              "      <td>The fee shall be collected by the marine termi...</td>\n",
              "      <td>(1) The oil spill prevention and administratio...</td>\n",
              "      <td>The refinery shall collect the fee from the ow...</td>\n",
              "      <td>The annual assessment shall not exceed six and...</td>\n",
              "    </tr>\n",
              "    <tr>\n",
              "      <th>988</th>\n",
              "      <td>Existing law establishes the California Coasta...</td>\n",
              "      <td>However, a communication made for the purpose ...</td>\n",
              "      <td>A placement agent, as defined in Section 82047...</td>\n",
              "      <td>However, a communication made for the purpose ...</td>\n",
              "      <td>Commission and does not include staff of the c...</td>\n",
              "      <td>For purposes of proceedings before the Califor...</td>\n",
              "    </tr>\n",
              "    <tr>\n",
              "      <th>187</th>\n",
              "      <td>Existing law defines specified terms for purpo...</td>\n",
              "      <td>A corporation or other entity with outstanding...</td>\n",
              "      <td>“Buy” includes exchange, offer to buy, or soli...</td>\n",
              "      <td>“Engage in the business” means the disseminati...</td>\n",
              "      <td>“Borrower” means the loan applicant. The pool ...</td>\n",
              "      <td>“Annual audit” means a certified audit of the ...</td>\n",
              "    </tr>\n",
              "    <tr>\n",
              "      <th>812</th>\n",
              "      <td>Existing law requires the adopted course of st...</td>\n",
              "      <td>The people of the State of California do enact...</td>\n",
              "      <td>Science, including the biological and physical...</td>\n",
              "      <td>Instruction shall provide a foundation for und...</td>\n",
              "      <td>The adopted course of study for grades 1 to 6,...</td>\n",
              "      <td>The Legislature finds and declares that neithe...</td>\n",
              "    </tr>\n",
              "    <tr>\n",
              "      <th>827</th>\n",
              "      <td>Existing law provides for the In-Home Supporti...</td>\n",
              "      <td>For purposes of this section, “authorized repr...</td>\n",
              "      <td>Specifies the responsibilities to be performed...</td>\n",
              "      <td>For purposes of this section, “authorized repr...</td>\n",
              "      <td>An individual who is prevented from being a pr...</td>\n",
              "      <td>For purposes of this section, “authorized repr...</td>\n",
              "    </tr>\n",
              "  </tbody>\n",
              "</table>\n",
              "</div>\n",
              "      <button class=\"colab-df-convert\" onclick=\"convertToInteractive('df-31bdf82c-d500-4fa1-8496-f714e2832511')\"\n",
              "              title=\"Convert this dataframe to an interactive table.\"\n",
              "              style=\"display:none;\">\n",
              "        \n",
              "  <svg xmlns=\"http://www.w3.org/2000/svg\" height=\"24px\"viewBox=\"0 0 24 24\"\n",
              "       width=\"24px\">\n",
              "    <path d=\"M0 0h24v24H0V0z\" fill=\"none\"/>\n",
              "    <path d=\"M18.56 5.44l.94 2.06.94-2.06 2.06-.94-2.06-.94-.94-2.06-.94 2.06-2.06.94zm-11 1L8.5 8.5l.94-2.06 2.06-.94-2.06-.94L8.5 2.5l-.94 2.06-2.06.94zm10 10l.94 2.06.94-2.06 2.06-.94-2.06-.94-.94-2.06-.94 2.06-2.06.94z\"/><path d=\"M17.41 7.96l-1.37-1.37c-.4-.4-.92-.59-1.43-.59-.52 0-1.04.2-1.43.59L10.3 9.45l-7.72 7.72c-.78.78-.78 2.05 0 2.83L4 21.41c.39.39.9.59 1.41.59.51 0 1.02-.2 1.41-.59l7.78-7.78 2.81-2.81c.8-.78.8-2.07 0-2.86zM5.41 20L4 18.59l7.72-7.72 1.47 1.35L5.41 20z\"/>\n",
              "  </svg>\n",
              "      </button>\n",
              "      \n",
              "  <style>\n",
              "    .colab-df-container {\n",
              "      display:flex;\n",
              "      flex-wrap:wrap;\n",
              "      gap: 12px;\n",
              "    }\n",
              "\n",
              "    .colab-df-convert {\n",
              "      background-color: #E8F0FE;\n",
              "      border: none;\n",
              "      border-radius: 50%;\n",
              "      cursor: pointer;\n",
              "      display: none;\n",
              "      fill: #1967D2;\n",
              "      height: 32px;\n",
              "      padding: 0 0 0 0;\n",
              "      width: 32px;\n",
              "    }\n",
              "\n",
              "    .colab-df-convert:hover {\n",
              "      background-color: #E2EBFA;\n",
              "      box-shadow: 0px 1px 2px rgba(60, 64, 67, 0.3), 0px 1px 3px 1px rgba(60, 64, 67, 0.15);\n",
              "      fill: #174EA6;\n",
              "    }\n",
              "\n",
              "    [theme=dark] .colab-df-convert {\n",
              "      background-color: #3B4455;\n",
              "      fill: #D2E3FC;\n",
              "    }\n",
              "\n",
              "    [theme=dark] .colab-df-convert:hover {\n",
              "      background-color: #434B5C;\n",
              "      box-shadow: 0px 1px 3px 1px rgba(0, 0, 0, 0.15);\n",
              "      filter: drop-shadow(0px 1px 2px rgba(0, 0, 0, 0.3));\n",
              "      fill: #FFFFFF;\n",
              "    }\n",
              "  </style>\n",
              "\n",
              "      <script>\n",
              "        const buttonEl =\n",
              "          document.querySelector('#df-31bdf82c-d500-4fa1-8496-f714e2832511 button.colab-df-convert');\n",
              "        buttonEl.style.display =\n",
              "          google.colab.kernel.accessAllowed ? 'block' : 'none';\n",
              "\n",
              "        async function convertToInteractive(key) {\n",
              "          const element = document.querySelector('#df-31bdf82c-d500-4fa1-8496-f714e2832511');\n",
              "          const dataTable =\n",
              "            await google.colab.kernel.invokeFunction('convertToInteractive',\n",
              "                                                     [key], {});\n",
              "          if (!dataTable) return;\n",
              "\n",
              "          const docLinkHtml = 'Like what you see? Visit the ' +\n",
              "            '<a target=\"_blank\" href=https://colab.research.google.com/notebooks/data_table.ipynb>data table notebook</a>'\n",
              "            + ' to learn more about interactive tables.';\n",
              "          element.innerHTML = '';\n",
              "          dataTable['output_type'] = 'display_data';\n",
              "          await google.colab.output.renderOutput(dataTable, element);\n",
              "          const docLink = document.createElement('div');\n",
              "          docLink.innerHTML = docLinkHtml;\n",
              "          element.appendChild(docLink);\n",
              "        }\n",
              "      </script>\n",
              "    </div>\n",
              "  </div>\n",
              "  "
            ]
          },
          "metadata": {},
          "execution_count": 15
        }
      ]
    },
    {
      "cell_type": "code",
      "source": [
        "data['summary'][5]"
      ],
      "metadata": {
        "colab": {
          "base_uri": "https://localhost:8080/",
          "height": 157
        },
        "id": "Kf-Kw_PCw7vS",
        "outputId": "5108c52c-e007-4f87-af71-8f895cb78b4e"
      },
      "execution_count": null,
      "outputs": [
        {
          "output_type": "execute_result",
          "data": {
            "text/plain": [
              "'The Political Reform Act of 1974 provides for the comprehensive regulation of campaign financing and related matters, including the reporting of gifts, as defined. The act prohibits specified officers from receiving gifts in excess of $440 in value from a single source in a calendar year. The act exempts gift payments for the actual costs of specified types of travel that are reasonably related to a legislative or governmental purpose, or to an issue of state, national, or international public policy, from the annual limit on the value of gifts from a single source. This bill would require a nonprofit organization that regularly organizes and hosts travel for elected officials, as specified, and that pays for these types of travel for an elected state officer or local elected officeholder to disclose the names of donors who, in the preceding year, both donated to the nonprofit organization and accompanied an elected officer or officeholder for any portion of the travel, as specified. The bill would require a person who receives a gift of a travel payment from any source to report the travel destination on his or her statement of economic interests. This bill would incorporate additional changes to Section 87207 of the Government Code proposed by both this bill and AB 10, which would become operative only if both bills are enacted and become effective on or before January 1, 2016, and this bill is chaptered last. A violation of the act’s provisions is punishable as a misdemeanor. By expanding the scope of an existing crime, this bill would impose a state-mandated local program. The California Constitution requires the state to reimburse local agencies and school districts for certain costs mandated by the state. Statutory provisions establish procedures for making that reimbursement. This bill would provide that no reimbursement is required by this act for a specified reason. The Political Reform Act of 1974, an initiative measure, provides that the Legislature may amend the act to further the act’s purposes upon a 23 vote of each house and compliance with specified procedural requirements. This bill would declare that it furthers the purposes of the act.'"
            ],
            "application/vnd.google.colaboratory.intrinsic+json": {
              "type": "string"
            }
          },
          "metadata": {},
          "execution_count": 16
        }
      ]
    },
    {
      "cell_type": "code",
      "source": [
        "data['TextRankSummary'][5] "
      ],
      "metadata": {
        "colab": {
          "base_uri": "https://localhost:8080/",
          "height": 157
        },
        "id": "Li4kjDzRxAfc",
        "outputId": "d9de76a4-f170-4c0f-ffe6-3a3d8dc118a3"
      },
      "execution_count": null,
      "outputs": [
        {
          "output_type": "execute_result",
          "data": {
            "text/plain": [
              "'Except as provided in subdivision (b), if income is required to be reported under this article, the statement shall contain all of the following: The name and address of each source of income aggregating one thousand dollars ($1,000) or more in value, or fifty dollars ($50) or more in value if the income was a gift, and a general description of the business activity, if any, of each source. Payments, advances, or reimbursements for travel, including actual transportation and related lodging and subsistence that is reasonably related to a legislative or governmental purpose, or to an issue of state, national, or international public policy, are not prohibited or limited by this chapter if either of the following applies: The travel is in connection with a speech given by the elected state officer, local elected officeholder, candidate for elective state office or local elective office, an individual specified in Section 87200, member of a state board or commission, or designated employee of a state or local government agency, the lodging and subsistence expenses are limited to the day immediately preceding, the day of, and the day immediately following the speech, and the travel is within the United States. The travel is provided by a government, a governmental agency, a foreign government, a governmental authority, a bona fide public or private educational institution, as defined in Section 203 of the Revenue and Taxation Code, a nonprofit organization that is exempt from taxation under Section 501(c)(3) of the Internal Revenue Code, or by a person domiciled outside the United States who substantially satisfies the requirements for tax-exempt status under Section 501(c)(3) of the Internal Revenue Code. (1) A nonprofit organization that regularly organizes and hosts travel for elected officials and that makes payments, advances, or reimbursements that total more than ten thousand dollars ($10,000) in a calendar year, or that total more than five thousand dollars ($5,000) in a calendar year for a single person, for travel by an elected state officer or local elected officeholder as described in subdivision (a) shall disclose to the Commission the names of donors who did both of the following in the preceding year: Donated one thousand dollars ($1,000) or more to the nonprofit organization. SECTIONHEADER No reimbursement is required by this act pursuant to Section 6 of Article XIII B of the California Constitution because the only costs that may be incurred by a local agency or school district will be incurred because this act creates a new crime or infraction, eliminates a crime or infraction, or changes the penalty for a crime or infraction, within the meaning of Section 17556 of the Government Code, or changes the definition of a crime within the meaning of Section 6 of Article XIII B of the California Constitution.'"
            ],
            "application/vnd.google.colaboratory.intrinsic+json": {
              "type": "string"
            }
          },
          "metadata": {},
          "execution_count": 17
        }
      ]
    },
    {
      "cell_type": "code",
      "source": [
        "def RougeScore(ModelScore, ModelSummary):\n",
        "\n",
        "    standard_summary = data[\"summary\"]\n",
        "    ModelScore_ = rouge.get_scores(ModelSummary, standard_summary, avg=True)\n",
        "    ModelDF = pd.DataFrame(ModelScore_).set_index(\n",
        "        [[\"recall\", \"precision\", \"f-measure\"]]\n",
        "    )\n",
        "    ModelDF.to_csv(ModelScore, index=True, header=True)\n",
        "    return ModelDF"
      ],
      "metadata": {
        "id": "B-ja15s-tav8"
      },
      "execution_count": null,
      "outputs": []
    },
    {
      "cell_type": "code",
      "source": [
        "LexRouge = RougeScore(\"LexRouge\", data[\"LexRankSummary\"])\n",
        "KLRouge = RougeScore(\"KLRouge\", data[\"KLSummary\"])\n",
        "TextRankRouge = RougeScore(\"TextRankRouge\", data[\"TextRankSummary\"])\n",
        "SumBasicRouge = RougeScore(\"SumBasicRouge\", data[\"SumBasicSummary\"])\n",
        "LsaRouge = RougeScore(\"LsaRouge\", data[\"LsaSummary\"])"
      ],
      "metadata": {
        "id": "H0Prmth9tatc"
      },
      "execution_count": null,
      "outputs": []
    },
    {
      "cell_type": "code",
      "source": [
        "score_path = \"/content/drive/MyDrive/LegSuM/scores/\""
      ],
      "metadata": {
        "id": "osRKzOFDtFr3"
      },
      "execution_count": null,
      "outputs": []
    },
    {
      "cell_type": "code",
      "source": [
        "LexRouge.to_csv(score_path +'LexRouge.csv', index=True, header=True)\n",
        "KLRouge.to_csv(score_path +'KLRouge.csv', index=True, header=True)\n",
        "TextRankRouge.to_csv(score_path +'TextRankRouge.csv', index=True, header=True)\n",
        "SumBasicRouge.to_csv(score_path +'SumBasicRouge.csv', index=True, header=True)\n",
        "LsaRouge.to_csv(score_path +'LsaRouge.csv', index=True, header=True)"
      ],
      "metadata": {
        "id": "LgrmTzV9tFps"
      },
      "execution_count": null,
      "outputs": []
    },
    {
      "cell_type": "code",
      "source": [
        "TextRankRouge"
      ],
      "metadata": {
        "colab": {
          "base_uri": "https://localhost:8080/",
          "height": 143
        },
        "id": "m0y81ah0xKbn",
        "outputId": "a76e4025-9f10-402d-917a-ea9e807feb91"
      },
      "execution_count": null,
      "outputs": [
        {
          "output_type": "execute_result",
          "data": {
            "text/plain": [
              "            rouge-1   rouge-2   rouge-l\n",
              "recall     0.396759  0.207309  0.350393\n",
              "precision  0.367729  0.198354  0.325992\n",
              "f-measure  0.365713  0.191063  0.323545"
            ],
            "text/html": [
              "\n",
              "  <div id=\"df-44dccff1-13c2-4eae-875e-004beb0a4a59\">\n",
              "    <div class=\"colab-df-container\">\n",
              "      <div>\n",
              "<style scoped>\n",
              "    .dataframe tbody tr th:only-of-type {\n",
              "        vertical-align: middle;\n",
              "    }\n",
              "\n",
              "    .dataframe tbody tr th {\n",
              "        vertical-align: top;\n",
              "    }\n",
              "\n",
              "    .dataframe thead th {\n",
              "        text-align: right;\n",
              "    }\n",
              "</style>\n",
              "<table border=\"1\" class=\"dataframe\">\n",
              "  <thead>\n",
              "    <tr style=\"text-align: right;\">\n",
              "      <th></th>\n",
              "      <th>rouge-1</th>\n",
              "      <th>rouge-2</th>\n",
              "      <th>rouge-l</th>\n",
              "    </tr>\n",
              "  </thead>\n",
              "  <tbody>\n",
              "    <tr>\n",
              "      <th>recall</th>\n",
              "      <td>0.396759</td>\n",
              "      <td>0.207309</td>\n",
              "      <td>0.350393</td>\n",
              "    </tr>\n",
              "    <tr>\n",
              "      <th>precision</th>\n",
              "      <td>0.367729</td>\n",
              "      <td>0.198354</td>\n",
              "      <td>0.325992</td>\n",
              "    </tr>\n",
              "    <tr>\n",
              "      <th>f-measure</th>\n",
              "      <td>0.365713</td>\n",
              "      <td>0.191063</td>\n",
              "      <td>0.323545</td>\n",
              "    </tr>\n",
              "  </tbody>\n",
              "</table>\n",
              "</div>\n",
              "      <button class=\"colab-df-convert\" onclick=\"convertToInteractive('df-44dccff1-13c2-4eae-875e-004beb0a4a59')\"\n",
              "              title=\"Convert this dataframe to an interactive table.\"\n",
              "              style=\"display:none;\">\n",
              "        \n",
              "  <svg xmlns=\"http://www.w3.org/2000/svg\" height=\"24px\"viewBox=\"0 0 24 24\"\n",
              "       width=\"24px\">\n",
              "    <path d=\"M0 0h24v24H0V0z\" fill=\"none\"/>\n",
              "    <path d=\"M18.56 5.44l.94 2.06.94-2.06 2.06-.94-2.06-.94-.94-2.06-.94 2.06-2.06.94zm-11 1L8.5 8.5l.94-2.06 2.06-.94-2.06-.94L8.5 2.5l-.94 2.06-2.06.94zm10 10l.94 2.06.94-2.06 2.06-.94-2.06-.94-.94-2.06-.94 2.06-2.06.94z\"/><path d=\"M17.41 7.96l-1.37-1.37c-.4-.4-.92-.59-1.43-.59-.52 0-1.04.2-1.43.59L10.3 9.45l-7.72 7.72c-.78.78-.78 2.05 0 2.83L4 21.41c.39.39.9.59 1.41.59.51 0 1.02-.2 1.41-.59l7.78-7.78 2.81-2.81c.8-.78.8-2.07 0-2.86zM5.41 20L4 18.59l7.72-7.72 1.47 1.35L5.41 20z\"/>\n",
              "  </svg>\n",
              "      </button>\n",
              "      \n",
              "  <style>\n",
              "    .colab-df-container {\n",
              "      display:flex;\n",
              "      flex-wrap:wrap;\n",
              "      gap: 12px;\n",
              "    }\n",
              "\n",
              "    .colab-df-convert {\n",
              "      background-color: #E8F0FE;\n",
              "      border: none;\n",
              "      border-radius: 50%;\n",
              "      cursor: pointer;\n",
              "      display: none;\n",
              "      fill: #1967D2;\n",
              "      height: 32px;\n",
              "      padding: 0 0 0 0;\n",
              "      width: 32px;\n",
              "    }\n",
              "\n",
              "    .colab-df-convert:hover {\n",
              "      background-color: #E2EBFA;\n",
              "      box-shadow: 0px 1px 2px rgba(60, 64, 67, 0.3), 0px 1px 3px 1px rgba(60, 64, 67, 0.15);\n",
              "      fill: #174EA6;\n",
              "    }\n",
              "\n",
              "    [theme=dark] .colab-df-convert {\n",
              "      background-color: #3B4455;\n",
              "      fill: #D2E3FC;\n",
              "    }\n",
              "\n",
              "    [theme=dark] .colab-df-convert:hover {\n",
              "      background-color: #434B5C;\n",
              "      box-shadow: 0px 1px 3px 1px rgba(0, 0, 0, 0.15);\n",
              "      filter: drop-shadow(0px 1px 2px rgba(0, 0, 0, 0.3));\n",
              "      fill: #FFFFFF;\n",
              "    }\n",
              "  </style>\n",
              "\n",
              "      <script>\n",
              "        const buttonEl =\n",
              "          document.querySelector('#df-44dccff1-13c2-4eae-875e-004beb0a4a59 button.colab-df-convert');\n",
              "        buttonEl.style.display =\n",
              "          google.colab.kernel.accessAllowed ? 'block' : 'none';\n",
              "\n",
              "        async function convertToInteractive(key) {\n",
              "          const element = document.querySelector('#df-44dccff1-13c2-4eae-875e-004beb0a4a59');\n",
              "          const dataTable =\n",
              "            await google.colab.kernel.invokeFunction('convertToInteractive',\n",
              "                                                     [key], {});\n",
              "          if (!dataTable) return;\n",
              "\n",
              "          const docLinkHtml = 'Like what you see? Visit the ' +\n",
              "            '<a target=\"_blank\" href=https://colab.research.google.com/notebooks/data_table.ipynb>data table notebook</a>'\n",
              "            + ' to learn more about interactive tables.';\n",
              "          element.innerHTML = '';\n",
              "          dataTable['output_type'] = 'display_data';\n",
              "          await google.colab.output.renderOutput(dataTable, element);\n",
              "          const docLink = document.createElement('div');\n",
              "          docLink.innerHTML = docLinkHtml;\n",
              "          element.appendChild(docLink);\n",
              "        }\n",
              "      </script>\n",
              "    </div>\n",
              "  </div>\n",
              "  "
            ]
          },
          "metadata": {},
          "execution_count": 26
        }
      ]
    },
    {
      "cell_type": "code",
      "source": [
        "LsaRouge"
      ],
      "metadata": {
        "colab": {
          "base_uri": "https://localhost:8080/",
          "height": 143
        },
        "id": "f8O22mRnxLud",
        "outputId": "afa06fe5-e7da-4836-96af-b0324e028b75"
      },
      "execution_count": null,
      "outputs": [
        {
          "output_type": "execute_result",
          "data": {
            "text/plain": [
              "            rouge-1   rouge-2   rouge-l\n",
              "recall     0.278718  0.107787  0.248816\n",
              "precision  0.391073  0.178288  0.352547\n",
              "f-measure  0.308460  0.124600  0.276421"
            ],
            "text/html": [
              "\n",
              "  <div id=\"df-ceb92036-b0c8-4541-872b-6aee41579a75\">\n",
              "    <div class=\"colab-df-container\">\n",
              "      <div>\n",
              "<style scoped>\n",
              "    .dataframe tbody tr th:only-of-type {\n",
              "        vertical-align: middle;\n",
              "    }\n",
              "\n",
              "    .dataframe tbody tr th {\n",
              "        vertical-align: top;\n",
              "    }\n",
              "\n",
              "    .dataframe thead th {\n",
              "        text-align: right;\n",
              "    }\n",
              "</style>\n",
              "<table border=\"1\" class=\"dataframe\">\n",
              "  <thead>\n",
              "    <tr style=\"text-align: right;\">\n",
              "      <th></th>\n",
              "      <th>rouge-1</th>\n",
              "      <th>rouge-2</th>\n",
              "      <th>rouge-l</th>\n",
              "    </tr>\n",
              "  </thead>\n",
              "  <tbody>\n",
              "    <tr>\n",
              "      <th>recall</th>\n",
              "      <td>0.278718</td>\n",
              "      <td>0.107787</td>\n",
              "      <td>0.248816</td>\n",
              "    </tr>\n",
              "    <tr>\n",
              "      <th>precision</th>\n",
              "      <td>0.391073</td>\n",
              "      <td>0.178288</td>\n",
              "      <td>0.352547</td>\n",
              "    </tr>\n",
              "    <tr>\n",
              "      <th>f-measure</th>\n",
              "      <td>0.308460</td>\n",
              "      <td>0.124600</td>\n",
              "      <td>0.276421</td>\n",
              "    </tr>\n",
              "  </tbody>\n",
              "</table>\n",
              "</div>\n",
              "      <button class=\"colab-df-convert\" onclick=\"convertToInteractive('df-ceb92036-b0c8-4541-872b-6aee41579a75')\"\n",
              "              title=\"Convert this dataframe to an interactive table.\"\n",
              "              style=\"display:none;\">\n",
              "        \n",
              "  <svg xmlns=\"http://www.w3.org/2000/svg\" height=\"24px\"viewBox=\"0 0 24 24\"\n",
              "       width=\"24px\">\n",
              "    <path d=\"M0 0h24v24H0V0z\" fill=\"none\"/>\n",
              "    <path d=\"M18.56 5.44l.94 2.06.94-2.06 2.06-.94-2.06-.94-.94-2.06-.94 2.06-2.06.94zm-11 1L8.5 8.5l.94-2.06 2.06-.94-2.06-.94L8.5 2.5l-.94 2.06-2.06.94zm10 10l.94 2.06.94-2.06 2.06-.94-2.06-.94-.94-2.06-.94 2.06-2.06.94z\"/><path d=\"M17.41 7.96l-1.37-1.37c-.4-.4-.92-.59-1.43-.59-.52 0-1.04.2-1.43.59L10.3 9.45l-7.72 7.72c-.78.78-.78 2.05 0 2.83L4 21.41c.39.39.9.59 1.41.59.51 0 1.02-.2 1.41-.59l7.78-7.78 2.81-2.81c.8-.78.8-2.07 0-2.86zM5.41 20L4 18.59l7.72-7.72 1.47 1.35L5.41 20z\"/>\n",
              "  </svg>\n",
              "      </button>\n",
              "      \n",
              "  <style>\n",
              "    .colab-df-container {\n",
              "      display:flex;\n",
              "      flex-wrap:wrap;\n",
              "      gap: 12px;\n",
              "    }\n",
              "\n",
              "    .colab-df-convert {\n",
              "      background-color: #E8F0FE;\n",
              "      border: none;\n",
              "      border-radius: 50%;\n",
              "      cursor: pointer;\n",
              "      display: none;\n",
              "      fill: #1967D2;\n",
              "      height: 32px;\n",
              "      padding: 0 0 0 0;\n",
              "      width: 32px;\n",
              "    }\n",
              "\n",
              "    .colab-df-convert:hover {\n",
              "      background-color: #E2EBFA;\n",
              "      box-shadow: 0px 1px 2px rgba(60, 64, 67, 0.3), 0px 1px 3px 1px rgba(60, 64, 67, 0.15);\n",
              "      fill: #174EA6;\n",
              "    }\n",
              "\n",
              "    [theme=dark] .colab-df-convert {\n",
              "      background-color: #3B4455;\n",
              "      fill: #D2E3FC;\n",
              "    }\n",
              "\n",
              "    [theme=dark] .colab-df-convert:hover {\n",
              "      background-color: #434B5C;\n",
              "      box-shadow: 0px 1px 3px 1px rgba(0, 0, 0, 0.15);\n",
              "      filter: drop-shadow(0px 1px 2px rgba(0, 0, 0, 0.3));\n",
              "      fill: #FFFFFF;\n",
              "    }\n",
              "  </style>\n",
              "\n",
              "      <script>\n",
              "        const buttonEl =\n",
              "          document.querySelector('#df-ceb92036-b0c8-4541-872b-6aee41579a75 button.colab-df-convert');\n",
              "        buttonEl.style.display =\n",
              "          google.colab.kernel.accessAllowed ? 'block' : 'none';\n",
              "\n",
              "        async function convertToInteractive(key) {\n",
              "          const element = document.querySelector('#df-ceb92036-b0c8-4541-872b-6aee41579a75');\n",
              "          const dataTable =\n",
              "            await google.colab.kernel.invokeFunction('convertToInteractive',\n",
              "                                                     [key], {});\n",
              "          if (!dataTable) return;\n",
              "\n",
              "          const docLinkHtml = 'Like what you see? Visit the ' +\n",
              "            '<a target=\"_blank\" href=https://colab.research.google.com/notebooks/data_table.ipynb>data table notebook</a>'\n",
              "            + ' to learn more about interactive tables.';\n",
              "          element.innerHTML = '';\n",
              "          dataTable['output_type'] = 'display_data';\n",
              "          await google.colab.output.renderOutput(dataTable, element);\n",
              "          const docLink = document.createElement('div');\n",
              "          docLink.innerHTML = docLinkHtml;\n",
              "          element.appendChild(docLink);\n",
              "        }\n",
              "      </script>\n",
              "    </div>\n",
              "  </div>\n",
              "  "
            ]
          },
          "metadata": {},
          "execution_count": 24
        }
      ]
    }
  ]
}